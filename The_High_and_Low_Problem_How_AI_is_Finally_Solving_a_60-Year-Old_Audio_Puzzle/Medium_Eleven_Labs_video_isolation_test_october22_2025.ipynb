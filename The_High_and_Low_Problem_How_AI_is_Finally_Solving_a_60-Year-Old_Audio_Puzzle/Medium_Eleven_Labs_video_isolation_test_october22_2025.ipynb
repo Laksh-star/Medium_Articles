{
  "nbformat": 4,
  "nbformat_minor": 0,
  "metadata": {
    "colab": {
      "provenance": []
    },
    "kernelspec": {
      "name": "python3",
      "display_name": "Python 3"
    },
    "language_info": {
      "name": "python"
    }
  },
  "cells": [
    {
      "cell_type": "code",
      "source": [
        "# @title Step 1: Install Required Libraries\n",
        "# This installs the official ElevenLabs Python library and moviepy for video processing.\n",
        "!pip install -q elevenlabs moviepy\n",
        "\n",
        "print(\"✅ Installation complete.\")\n"
      ],
      "metadata": {
        "colab": {
          "base_uri": "https://localhost:8080/"
        },
        "id": "XjYr2qWMnFMi",
        "outputId": "6e39ec2c-10aa-47e5-e7e0-a3ddbd5e89dc"
      },
      "execution_count": null,
      "outputs": [
        {
          "output_type": "stream",
          "name": "stdout",
          "text": [
            "\u001b[?25l   \u001b[90m━━━━━━━━━━━━━━━━━━━━━━━━━━━━━━━━━━━━━━━━\u001b[0m \u001b[32m0.0/1.1 MB\u001b[0m \u001b[31m?\u001b[0m eta \u001b[36m-:--:--\u001b[0m\r\u001b[2K   \u001b[91m━━━━━━━━━━━━━━━\u001b[0m\u001b[90m╺\u001b[0m\u001b[90m━━━━━━━━━━━━━━━━━━━━━━━━\u001b[0m \u001b[32m0.4/1.1 MB\u001b[0m \u001b[31m12.3 MB/s\u001b[0m eta \u001b[36m0:00:01\u001b[0m\r\u001b[2K   \u001b[91m━━━━━━━━━━━━━━━━━━━━━━━━━━━━━━━━━━━━━━━\u001b[0m\u001b[91m╸\u001b[0m \u001b[32m1.1/1.1 MB\u001b[0m \u001b[31m22.4 MB/s\u001b[0m eta \u001b[36m0:00:01\u001b[0m\r\u001b[2K   \u001b[90m━━━━━━━━━━━━━━━━━━━━━━━━━━━━━━━━━━━━━━━━\u001b[0m \u001b[32m1.1/1.1 MB\u001b[0m \u001b[31m13.5 MB/s\u001b[0m eta \u001b[36m0:00:00\u001b[0m\n",
            "\u001b[?25h✅ Installation complete.\n"
          ]
        }
      ]
    },
    {
      "cell_type": "code",
      "execution_count": null,
      "metadata": {
        "colab": {
          "base_uri": "https://localhost:8080/",
          "height": 137
        },
        "id": "9w3rWeEsm8Es",
        "outputId": "ca42c8c9-5209-4289-a627-fbfbb2c36730"
      },
      "outputs": [
        {
          "output_type": "stream",
          "name": "stdout",
          "text": [
            "\n",
            "Please upload the video file containing the copyrighted music.\n"
          ]
        },
        {
          "output_type": "display_data",
          "data": {
            "text/plain": [
              "<IPython.core.display.HTML object>"
            ],
            "text/html": [
              "\n",
              "     <input type=\"file\" id=\"files-7e78656b-d1f4-4c03-8fb0-654a4a11c5bf\" name=\"files[]\" multiple disabled\n",
              "        style=\"border:none\" />\n",
              "     <output id=\"result-7e78656b-d1f4-4c03-8fb0-654a4a11c5bf\">\n",
              "      Upload widget is only available when the cell has been executed in the\n",
              "      current browser session. Please rerun this cell to enable.\n",
              "      </output>\n",
              "      <script>// Copyright 2017 Google LLC\n",
              "//\n",
              "// Licensed under the Apache License, Version 2.0 (the \"License\");\n",
              "// you may not use this file except in compliance with the License.\n",
              "// You may obtain a copy of the License at\n",
              "//\n",
              "//      http://www.apache.org/licenses/LICENSE-2.0\n",
              "//\n",
              "// Unless required by applicable law or agreed to in writing, software\n",
              "// distributed under the License is distributed on an \"AS IS\" BASIS,\n",
              "// WITHOUT WARRANTIES OR CONDITIONS OF ANY KIND, either express or implied.\n",
              "// See the License for the specific language governing permissions and\n",
              "// limitations under the License.\n",
              "\n",
              "/**\n",
              " * @fileoverview Helpers for google.colab Python module.\n",
              " */\n",
              "(function(scope) {\n",
              "function span(text, styleAttributes = {}) {\n",
              "  const element = document.createElement('span');\n",
              "  element.textContent = text;\n",
              "  for (const key of Object.keys(styleAttributes)) {\n",
              "    element.style[key] = styleAttributes[key];\n",
              "  }\n",
              "  return element;\n",
              "}\n",
              "\n",
              "// Max number of bytes which will be uploaded at a time.\n",
              "const MAX_PAYLOAD_SIZE = 100 * 1024;\n",
              "\n",
              "function _uploadFiles(inputId, outputId) {\n",
              "  const steps = uploadFilesStep(inputId, outputId);\n",
              "  const outputElement = document.getElementById(outputId);\n",
              "  // Cache steps on the outputElement to make it available for the next call\n",
              "  // to uploadFilesContinue from Python.\n",
              "  outputElement.steps = steps;\n",
              "\n",
              "  return _uploadFilesContinue(outputId);\n",
              "}\n",
              "\n",
              "// This is roughly an async generator (not supported in the browser yet),\n",
              "// where there are multiple asynchronous steps and the Python side is going\n",
              "// to poll for completion of each step.\n",
              "// This uses a Promise to block the python side on completion of each step,\n",
              "// then passes the result of the previous step as the input to the next step.\n",
              "function _uploadFilesContinue(outputId) {\n",
              "  const outputElement = document.getElementById(outputId);\n",
              "  const steps = outputElement.steps;\n",
              "\n",
              "  const next = steps.next(outputElement.lastPromiseValue);\n",
              "  return Promise.resolve(next.value.promise).then((value) => {\n",
              "    // Cache the last promise value to make it available to the next\n",
              "    // step of the generator.\n",
              "    outputElement.lastPromiseValue = value;\n",
              "    return next.value.response;\n",
              "  });\n",
              "}\n",
              "\n",
              "/**\n",
              " * Generator function which is called between each async step of the upload\n",
              " * process.\n",
              " * @param {string} inputId Element ID of the input file picker element.\n",
              " * @param {string} outputId Element ID of the output display.\n",
              " * @return {!Iterable<!Object>} Iterable of next steps.\n",
              " */\n",
              "function* uploadFilesStep(inputId, outputId) {\n",
              "  const inputElement = document.getElementById(inputId);\n",
              "  inputElement.disabled = false;\n",
              "\n",
              "  const outputElement = document.getElementById(outputId);\n",
              "  outputElement.innerHTML = '';\n",
              "\n",
              "  const pickedPromise = new Promise((resolve) => {\n",
              "    inputElement.addEventListener('change', (e) => {\n",
              "      resolve(e.target.files);\n",
              "    });\n",
              "  });\n",
              "\n",
              "  const cancel = document.createElement('button');\n",
              "  inputElement.parentElement.appendChild(cancel);\n",
              "  cancel.textContent = 'Cancel upload';\n",
              "  const cancelPromise = new Promise((resolve) => {\n",
              "    cancel.onclick = () => {\n",
              "      resolve(null);\n",
              "    };\n",
              "  });\n",
              "\n",
              "  // Wait for the user to pick the files.\n",
              "  const files = yield {\n",
              "    promise: Promise.race([pickedPromise, cancelPromise]),\n",
              "    response: {\n",
              "      action: 'starting',\n",
              "    }\n",
              "  };\n",
              "\n",
              "  cancel.remove();\n",
              "\n",
              "  // Disable the input element since further picks are not allowed.\n",
              "  inputElement.disabled = true;\n",
              "\n",
              "  if (!files) {\n",
              "    return {\n",
              "      response: {\n",
              "        action: 'complete',\n",
              "      }\n",
              "    };\n",
              "  }\n",
              "\n",
              "  for (const file of files) {\n",
              "    const li = document.createElement('li');\n",
              "    li.append(span(file.name, {fontWeight: 'bold'}));\n",
              "    li.append(span(\n",
              "        `(${file.type || 'n/a'}) - ${file.size} bytes, ` +\n",
              "        `last modified: ${\n",
              "            file.lastModifiedDate ? file.lastModifiedDate.toLocaleDateString() :\n",
              "                                    'n/a'} - `));\n",
              "    const percent = span('0% done');\n",
              "    li.appendChild(percent);\n",
              "\n",
              "    outputElement.appendChild(li);\n",
              "\n",
              "    const fileDataPromise = new Promise((resolve) => {\n",
              "      const reader = new FileReader();\n",
              "      reader.onload = (e) => {\n",
              "        resolve(e.target.result);\n",
              "      };\n",
              "      reader.readAsArrayBuffer(file);\n",
              "    });\n",
              "    // Wait for the data to be ready.\n",
              "    let fileData = yield {\n",
              "      promise: fileDataPromise,\n",
              "      response: {\n",
              "        action: 'continue',\n",
              "      }\n",
              "    };\n",
              "\n",
              "    // Use a chunked sending to avoid message size limits. See b/62115660.\n",
              "    let position = 0;\n",
              "    do {\n",
              "      const length = Math.min(fileData.byteLength - position, MAX_PAYLOAD_SIZE);\n",
              "      const chunk = new Uint8Array(fileData, position, length);\n",
              "      position += length;\n",
              "\n",
              "      const base64 = btoa(String.fromCharCode.apply(null, chunk));\n",
              "      yield {\n",
              "        response: {\n",
              "          action: 'append',\n",
              "          file: file.name,\n",
              "          data: base64,\n",
              "        },\n",
              "      };\n",
              "\n",
              "      let percentDone = fileData.byteLength === 0 ?\n",
              "          100 :\n",
              "          Math.round((position / fileData.byteLength) * 100);\n",
              "      percent.textContent = `${percentDone}% done`;\n",
              "\n",
              "    } while (position < fileData.byteLength);\n",
              "  }\n",
              "\n",
              "  // All done.\n",
              "  yield {\n",
              "    response: {\n",
              "      action: 'complete',\n",
              "    }\n",
              "  };\n",
              "}\n",
              "\n",
              "scope.google = scope.google || {};\n",
              "scope.google.colab = scope.google.colab || {};\n",
              "scope.google.colab._files = {\n",
              "  _uploadFiles,\n",
              "  _uploadFilesContinue,\n",
              "};\n",
              "})(self);\n",
              "</script> "
            ]
          },
          "metadata": {}
        },
        {
          "output_type": "stream",
          "name": "stdout",
          "text": [
            "Saving videoplayback.mp4 to videoplayback.mp4\n",
            "\n",
            "✅ Video 'videoplayback.mp4' uploaded successfully.\n"
          ]
        }
      ],
      "source": [
        "# @title Step 2: Enter API Key & Upload Your Video\n",
        "from google.colab import files, userdata\n",
        "import os\n",
        "\n",
        "# Securely input your ElevenLabs API Key.\n",
        "# You will be prompted to enter it the first time.\n",
        "api_key = userdata.get('ELEVENLABS_API_KEY')\n",
        "if not api_key:\n",
        "  api_key = input(\"Please enter your ElevenLabs API Key: \")\n",
        "  userdata.add('ELEVENLABS_API_KEY', api_key)\n",
        "\n",
        "# Clean up any previous video files to avoid errors.\n",
        "if os.path.exists('input_video_with_music.mp4'):\n",
        "    os.remove('input_video_with_music.mp4')\n",
        "\n",
        "# Upload the video file you want to clean.\n",
        "print(\"\\nPlease upload the video file containing the copyrighted music.\")\n",
        "uploaded = files.upload()\n",
        "\n",
        "# Rename for consistency in the script.\n",
        "input_filename = next(iter(uploaded))\n",
        "os.rename(input_filename, 'input_video_with_music.mp4')\n",
        "\n",
        "print(f\"\\n✅ Video '{input_filename}' uploaded successfully.\")\n"
      ]
    },
    {
      "cell_type": "code",
      "source": [
        "# @title Step 3: Extract the Original Audio from the Video\n",
        "from moviepy.editor import VideoFileClip\n",
        "\n",
        "print(\"Extracting the original audio (voice + music) from the video...\")\n",
        "video = VideoFileClip(\"input_video_with_music.mp4\")\n",
        "original_audio_path = \"original_audio.mp3\"\n",
        "video.audio.write_audiofile(original_audio_path, verbose=False, logger=None)\n",
        "\n",
        "print(f\"✅ Audio extracted to '{original_audio_path}'.\")\n"
      ],
      "metadata": {
        "colab": {
          "base_uri": "https://localhost:8080/"
        },
        "id": "lTqcZC1cnIzz",
        "outputId": "4212228d-1d12-4af1-ecdd-5c45ac08e591"
      },
      "execution_count": null,
      "outputs": [
        {
          "output_type": "stream",
          "name": "stdout",
          "text": [
            "Extracting the original audio (voice + music) from the video...\n",
            "✅ Audio extracted to 'original_audio.mp3'.\n"
          ]
        }
      ]
    },
    {
      "cell_type": "code",
      "source": [
        "import requests\n",
        "import os\n",
        "\n",
        "# Define the API key and audio file path\n",
        "\n",
        "original_audio_path = \"/content/original_audio.mp3\"  # Replace with your actual file path, e.g., \"C:/Users/YourName/audio.mp3\" or \"./my_audio.mp3\"\n",
        "\n",
        "print(f\"API Key: {api_key}\")\n",
        "\n",
        "# Validate file\n",
        "if not original_audio_path:\n",
        "    print(f\"❌ Error: 'original_audio_path' is not defined.\")\n",
        "    exit(1)\n",
        "\n",
        "if not os.path.exists(original_audio_path):\n",
        "    print(f\"❌ Error: Audio file '{original_audio_path}' does not exist.\")\n",
        "    exit(1)\n",
        "\n",
        "# Verify file format\n",
        "supported_formats = ['.mp3', '.wav']\n",
        "file_ext = os.path.splitext(original_audio_path)[1].lower()\n",
        "if file_ext not in supported_formats:\n",
        "    print(f\"❌ Error: Unsupported file format '{file_ext}'. Use MP3 or WAV.\")\n",
        "    exit(1)\n",
        "\n",
        "# Define the endpoint explicitly\n",
        "url = \"https://api.elevenlabs.io/v1/audio-isolation\"\n",
        "headers = {\"xi-api-key\": api_key}\n",
        "\n",
        "print(\"Sending audio to ElevenLabs to isolate the voice and remove the music...\")\n",
        "\n",
        "try:\n",
        "    with open(original_audio_path, \"rb\") as f:\n",
        "        # Prepare the file for multipart form data\n",
        "        files = {\n",
        "            \"audio\": (os.path.basename(original_audio_path), f, \"audio/mpeg\" if file_ext == \".mp3\" else \"audio/wav\")\n",
        "        }\n",
        "        response = requests.post(url, headers=headers, files=files)\n",
        "\n",
        "    if response.status_code == 200:\n",
        "        isolated_voice_path = \"isolated_voice_only.mp3\"\n",
        "        with open(isolated_voice_path, \"wb\") as f_out:\n",
        "            f_out.write(response.content)\n",
        "        print(f\"✅ Voice isolated successfully! Saved to '{isolated_voice_path}'.\")\n",
        "    else:\n",
        "        print(f\"❌ API error: {response.status_code} - {response.text}\")\n",
        "        print(\"Please verify your API key at https://elevenlabs.io/ and ensure you have sufficient credits.\")\n",
        "\n",
        "except Exception as e:\n",
        "    print(f\"❌ An error occurred: {e}\")\n",
        "    print(\"Please verify your API key and ensure the input audio file is in a supported format (e.g., MP3, WAV) and is not corrupted.\")"
      ],
      "metadata": {
        "id": "y1-u9SLHnMGt"
      },
      "execution_count": null,
      "outputs": []
    },
    {
      "cell_type": "code",
      "source": [
        "# @title Step 5: Create the Final Video with a Clean Audio Track\n",
        "from moviepy.editor import VideoFileClip, AudioFileClip\n",
        "\n",
        "if os.path.exists(isolated_voice_path):\n",
        "    print(\"Replacing the original audio with the clean, voice-only track...\")\n",
        "    # Load the video (without its audio) and the new clean audio.\n",
        "    video_clip = VideoFileClip(\"input_video_with_music.mp4\")\n",
        "    clean_audio_clip = AudioFileClip(isolated_voice_path)\n",
        "\n",
        "    # Combine them into the final video.\n",
        "    final_video = video_clip.set_audio(clean_audio_clip)\n",
        "\n",
        "    # Save the final, copyright-safe video.\n",
        "    final_video_filename = \"final_video_no_music.mp4\"\n",
        "    final_video.write_videofile(final_video_filename, codec=\"libx264\", audio_codec=\"aac\", verbose=False, logger=None)\n",
        "\n",
        "    print(f\"\\n✅ Success! Your new video '{final_video_filename}' is ready and safe to upload.\")\n",
        "else:\n",
        "    print(\"❌ Cannot create final video because the voice isolation step failed.\")\n",
        "\n"
      ],
      "metadata": {
        "colab": {
          "base_uri": "https://localhost:8080/"
        },
        "id": "V6a0IWmqnPEk",
        "outputId": "06aee8e0-3ee8-4790-fc8b-e0f1dd7cb8d2"
      },
      "execution_count": null,
      "outputs": [
        {
          "output_type": "stream",
          "name": "stdout",
          "text": [
            "Replacing the original audio with the clean, voice-only track...\n"
          ]
        },
        {
          "output_type": "stream",
          "name": "stderr",
          "text": [
            "WARNING:py.warnings:/usr/local/lib/python3.12/dist-packages/moviepy/video/io/ffmpeg_reader.py:123: UserWarning: Warning: in file input_video_with_music.mp4, 691200 bytes wanted but 0 bytes read,at frame 4396/4398, at time 183.17/183.21 sec. Using the last valid frame instead.\n",
            "  warnings.warn(\"Warning: in file %s, \"%(self.filename)+\n",
            "\n",
            "WARNING:py.warnings:/usr/local/lib/python3.12/dist-packages/moviepy/video/io/ffmpeg_reader.py:123: UserWarning: Warning: in file input_video_with_music.mp4, 691200 bytes wanted but 0 bytes read,at frame 4397/4398, at time 183.21/183.21 sec. Using the last valid frame instead.\n",
            "  warnings.warn(\"Warning: in file %s, \"%(self.filename)+\n",
            "\n"
          ]
        },
        {
          "output_type": "stream",
          "name": "stdout",
          "text": [
            "\n",
            "✅ Success! Your new video 'final_video_no_music.mp4' is ready and safe to upload.\n"
          ]
        }
      ]
    },
    {
      "cell_type": "code",
      "source": [
        "# @title Step 6: Download the Final, Music-Free Video\n",
        "from google.colab import files\n",
        "\n",
        "if os.path.exists(final_video_filename):\n",
        "  print(f\"Downloading '{final_video_filename}'...\")\n",
        "  files.download(final_video_filename)\n",
        "else:\n",
        "  print(\"❌ Final video not found. Please ensure all previous steps ran correctly.\")\n"
      ],
      "metadata": {
        "colab": {
          "base_uri": "https://localhost:8080/",
          "height": 34
        },
        "id": "sX2BRtgOnTxx",
        "outputId": "f31524a9-527e-4f93-c899-8c357b80904f"
      },
      "execution_count": null,
      "outputs": [
        {
          "output_type": "stream",
          "name": "stdout",
          "text": [
            "Downloading 'final_video_no_music.mp4'...\n"
          ]
        },
        {
          "output_type": "display_data",
          "data": {
            "text/plain": [
              "<IPython.core.display.Javascript object>"
            ],
            "application/javascript": [
              "\n",
              "    async function download(id, filename, size) {\n",
              "      if (!google.colab.kernel.accessAllowed) {\n",
              "        return;\n",
              "      }\n",
              "      const div = document.createElement('div');\n",
              "      const label = document.createElement('label');\n",
              "      label.textContent = `Downloading \"${filename}\": `;\n",
              "      div.appendChild(label);\n",
              "      const progress = document.createElement('progress');\n",
              "      progress.max = size;\n",
              "      div.appendChild(progress);\n",
              "      document.body.appendChild(div);\n",
              "\n",
              "      const buffers = [];\n",
              "      let downloaded = 0;\n",
              "\n",
              "      const channel = await google.colab.kernel.comms.open(id);\n",
              "      // Send a message to notify the kernel that we're ready.\n",
              "      channel.send({})\n",
              "\n",
              "      for await (const message of channel.messages) {\n",
              "        // Send a message to notify the kernel that we're ready.\n",
              "        channel.send({})\n",
              "        if (message.buffers) {\n",
              "          for (const buffer of message.buffers) {\n",
              "            buffers.push(buffer);\n",
              "            downloaded += buffer.byteLength;\n",
              "            progress.value = downloaded;\n",
              "          }\n",
              "        }\n",
              "      }\n",
              "      const blob = new Blob(buffers, {type: 'application/binary'});\n",
              "      const a = document.createElement('a');\n",
              "      a.href = window.URL.createObjectURL(blob);\n",
              "      a.download = filename;\n",
              "      div.appendChild(a);\n",
              "      a.click();\n",
              "      div.remove();\n",
              "    }\n",
              "  "
            ]
          },
          "metadata": {}
        },
        {
          "output_type": "display_data",
          "data": {
            "text/plain": [
              "<IPython.core.display.Javascript object>"
            ],
            "application/javascript": [
              "download(\"download_ceafda19-c6ea-4ec6-b8f4-12456f50038f\", \"final_video_no_music.mp4\", 13610172)"
            ]
          },
          "metadata": {}
        }
      ]
    },
    {
      "cell_type": "code",
      "source": [
        "# from elevenlabs import ElevenLabs\n",
        "\n",
        "# client = ElevenLabs(\n",
        "#     base_url=\"https://api.elevenlabs.io/\"\n",
        "# )\n",
        "\n",
        "# client.audio_isolation.convert()\n",
        "\n",
        "# https://api.elevenlabs.io/v1/audio-isolation"
      ],
      "metadata": {
        "id": "rFYiIpKJt7cq"
      },
      "execution_count": null,
      "outputs": []
    }
  ]
}
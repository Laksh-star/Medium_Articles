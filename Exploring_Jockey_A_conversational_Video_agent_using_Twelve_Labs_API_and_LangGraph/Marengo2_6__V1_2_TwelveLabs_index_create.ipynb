{
  "cells": [
    {
      "cell_type": "code",
      "execution_count": null,
      "metadata": {
        "id": "ME3drNyaS-dV",
        "colab": {
          "base_uri": "https://localhost:8080/"
        },
        "outputId": "dd7506fb-3257-4e08-bc6e-32f406fa3a8c"
      },
      "outputs": [
        {
          "output_type": "stream",
          "name": "stdout",
          "text": [
            "Collecting twelvelabs==0.3.1\n",
            "  Downloading twelvelabs-0.3.1-py3-none-any.whl.metadata (16 kB)\n",
            "Requirement already satisfied: pydantic>=2.4.2 in /usr/local/lib/python3.10/dist-packages (from twelvelabs==0.3.1) (2.10.3)\n",
            "Requirement already satisfied: httpx>=0.25.2 in /usr/local/lib/python3.10/dist-packages (from twelvelabs==0.3.1) (0.28.1)\n",
            "Requirement already satisfied: anyio in /usr/local/lib/python3.10/dist-packages (from httpx>=0.25.2->twelvelabs==0.3.1) (3.7.1)\n",
            "Requirement already satisfied: certifi in /usr/local/lib/python3.10/dist-packages (from httpx>=0.25.2->twelvelabs==0.3.1) (2024.12.14)\n",
            "Requirement already satisfied: httpcore==1.* in /usr/local/lib/python3.10/dist-packages (from httpx>=0.25.2->twelvelabs==0.3.1) (1.0.7)\n",
            "Requirement already satisfied: idna in /usr/local/lib/python3.10/dist-packages (from httpx>=0.25.2->twelvelabs==0.3.1) (3.10)\n",
            "Requirement already satisfied: h11<0.15,>=0.13 in /usr/local/lib/python3.10/dist-packages (from httpcore==1.*->httpx>=0.25.2->twelvelabs==0.3.1) (0.14.0)\n",
            "Requirement already satisfied: annotated-types>=0.6.0 in /usr/local/lib/python3.10/dist-packages (from pydantic>=2.4.2->twelvelabs==0.3.1) (0.7.0)\n",
            "Requirement already satisfied: pydantic-core==2.27.1 in /usr/local/lib/python3.10/dist-packages (from pydantic>=2.4.2->twelvelabs==0.3.1) (2.27.1)\n",
            "Requirement already satisfied: typing-extensions>=4.12.2 in /usr/local/lib/python3.10/dist-packages (from pydantic>=2.4.2->twelvelabs==0.3.1) (4.12.2)\n",
            "Requirement already satisfied: sniffio>=1.1 in /usr/local/lib/python3.10/dist-packages (from anyio->httpx>=0.25.2->twelvelabs==0.3.1) (1.3.1)\n",
            "Requirement already satisfied: exceptiongroup in /usr/local/lib/python3.10/dist-packages (from anyio->httpx>=0.25.2->twelvelabs==0.3.1) (1.2.2)\n",
            "Downloading twelvelabs-0.3.1-py3-none-any.whl (34 kB)\n",
            "Installing collected packages: twelvelabs\n",
            "Successfully installed twelvelabs-0.3.1\n",
            "Name: twelvelabs\n",
            "Version: 0.3.1\n",
            "Summary: SDK for Twelve Labs API\n",
            "Home-page: https://github.com/twelvelabs-io/twelvelabs-python\n",
            "Author: Twelve Labs\n",
            "Author-email: \n",
            "License: UNKNOWN\n",
            "Location: /usr/local/lib/python3.10/dist-packages\n",
            "Requires: httpx, pydantic\n",
            "Required-by: \n"
          ]
        }
      ],
      "source": [
        "# Reference: https://docs.twelvelabs.io/v1.2/docs/create-indexes\n",
        "!pip install twelvelabs==0.3.1\n",
        "!pip show twelvelabs # Check if the package is installed and the version\n",
        "from twelvelabs import TwelveLabs #Import the library after the installation & kernel restart.\n",
        "from twelvelabs.models.task import Task"
      ]
    },
    {
      "cell_type": "markdown",
      "metadata": {
        "id": "PQ-gihrzrsm7"
      },
      "source": []
    },
    {
      "cell_type": "code",
      "execution_count": null,
      "metadata": {
        "id": "9DBGRVboTEue"
      },
      "outputs": [],
      "source": [
        "from google.colab import userdata\n",
        "TL_API_KEY=userdata.get('TL_API_KEY')"
      ]
    },
    {
      "cell_type": "code",
      "execution_count": null,
      "metadata": {
        "id": "elAj0cm1Upaa"
      },
      "outputs": [],
      "source": [
        "# Create index\n",
        "import os\n",
        "from glob import glob\n",
        "# The path to the directory containing the videos you wish to upload.\n",
        "VIDEO_PATH = \"/content/test.mp4\"  # In a colab Notebook, just upload the file in the root folder and just give the filename.\n",
        "\n",
        "client = TwelveLabs(api_key=TL_API_KEY)\n",
        "engines = [\n",
        "        {\n",
        "          \"name\": \"marengo2.6\",\n",
        "          \"options\": [\"visual\", \"conversation\", \"text_in_video\", \"logo\"]\n",
        "        }\n",
        "  ]\n"
      ]
    },
    {
      "cell_type": "code",
      "execution_count": null,
      "metadata": {
        "id": "nCFHUlrBXaxy"
      },
      "outputs": [],
      "source": [
        "# Upload videos to index\n",
        "video_files = glob(VIDEO_PATH)\n",
        "if(len(video_files)==0):\n",
        "  raise Exception(\"Video file was not provided\")\n",
        "for video_file in video_files:\n",
        "  print(f\"Uploading {video_file}\")\n",
        "  task = client.task.create(index_id=index.id, file=video_file, language=\"en\")\n",
        "  print(f\"Created task: id={task.id}\")\n",
        "\n",
        "  # (Optional) Monitor the video indexing process\n",
        "  # Utility function to print the status of a video indexing task\n",
        "  def on_task_update(task: Task):\n",
        "          print(f\"  Status={task.status}\")\n",
        "  task.wait_for_done(sleep_interval=50, callback=on_task_update)\n",
        "  if task.status != \"ready\":\n",
        "      raise RuntimeError(f\"Indexing failed with status {task.status}\")\n",
        "  print(f\"Uploaded {video_file}. The unique identifer of your video is {task.video_id}.\")\n"
      ]
    },
    {
      "cell_type": "code",
      "source": [
        "from google.colab import userdata\n",
        "TL_API_KEY=userdata.get('TL_API_KEY')"
      ],
      "metadata": {
        "id": "OCZqXtULI0ah"
      },
      "execution_count": null,
      "outputs": []
    },
    {
      "cell_type": "code",
      "source": [
        "# Search by text\n",
        "#from twelvelabs import TwelveLabs\n",
        "\n",
        "client = TwelveLabs(api_key=TL_API_KEY)\n",
        "\n",
        "search_results = client.search.query(\n",
        "  index_id=index.id,\n",
        "  query_text=\"Simple to complex agents\",\n",
        "  options=[\"visual\"]\n",
        ")\n",
        "\n",
        "# Utility function to print a specific page\n",
        "def print_page(page):\n",
        "  for clip in page:\n",
        "    print(\n",
        "        f\" video_id={clip.video_id} score={clip.score} start={clip.start} end={clip.end} confidence={clip.confidence} metadata={clip.metadata}\"\n",
        "    )\n",
        "\n",
        "print_page(search_results.data)\n",
        "\n",
        "while True:\n",
        "    try:\n",
        "        print_page(next(search_results))\n",
        "    except StopIteration:\n",
        "        break"
      ],
      "metadata": {
        "id": "ndkRS8q3IAci"
      },
      "execution_count": null,
      "outputs": []
    }
  ],
  "metadata": {
    "colab": {
      "provenance": []
    },
    "kernelspec": {
      "display_name": "Python 3",
      "name": "python3"
    },
    "language_info": {
      "name": "python"
    }
  },
  "nbformat": 4,
  "nbformat_minor": 0
}
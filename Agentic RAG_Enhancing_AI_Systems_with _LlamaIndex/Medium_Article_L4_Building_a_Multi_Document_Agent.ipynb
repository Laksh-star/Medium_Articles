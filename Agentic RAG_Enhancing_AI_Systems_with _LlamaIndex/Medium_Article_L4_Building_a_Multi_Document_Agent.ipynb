{
  "cells": [
    {
      "cell_type": "markdown",
      "id": "0b523e0a",
      "metadata": {
        "id": "0b523e0a"
      },
      "source": [
        "# Lesson 4: Building a Multi-Document Agent"
      ]
    },
    {
      "cell_type": "markdown",
      "id": "1a323703",
      "metadata": {
        "id": "1a323703"
      },
      "source": [
        "## Setup"
      ]
    },
    {
      "cell_type": "code",
      "source": [
        "pip install llama_index"
      ],
      "metadata": {
        "colab": {
          "base_uri": "https://localhost:8080/"
        },
        "collapsed": true,
        "id": "g0WMeNSPB1Fx",
        "outputId": "75e7eaa9-e0c4-4fda-f122-8a4737849634"
      },
      "id": "g0WMeNSPB1Fx",
      "execution_count": null,
      "outputs": [
        {
          "output_type": "stream",
          "name": "stdout",
          "text": [
            "Collecting llama_index\n",
            "  Downloading llama_index-0.10.51-py3-none-any.whl (6.8 kB)\n",
            "Collecting llama-index-agent-openai<0.3.0,>=0.1.4 (from llama_index)\n",
            "  Downloading llama_index_agent_openai-0.2.7-py3-none-any.whl (12 kB)\n",
            "Collecting llama-index-cli<0.2.0,>=0.1.2 (from llama_index)\n",
            "  Downloading llama_index_cli-0.1.12-py3-none-any.whl (26 kB)\n",
            "Collecting llama-index-core==0.10.51 (from llama_index)\n",
            "  Downloading llama_index_core-0.10.51-py3-none-any.whl (15.4 MB)\n",
            "\u001b[2K     \u001b[90m━━━━━━━━━━━━━━━━━━━━━━━━━━━━━━━━━━━━━━━━\u001b[0m \u001b[32m15.4/15.4 MB\u001b[0m \u001b[31m59.9 MB/s\u001b[0m eta \u001b[36m0:00:00\u001b[0m\n",
            "\u001b[?25hCollecting llama-index-embeddings-openai<0.2.0,>=0.1.5 (from llama_index)\n",
            "  Downloading llama_index_embeddings_openai-0.1.10-py3-none-any.whl (6.2 kB)\n",
            "Collecting llama-index-indices-managed-llama-cloud>=0.2.0 (from llama_index)\n",
            "  Downloading llama_index_indices_managed_llama_cloud-0.2.2-py3-none-any.whl (9.2 kB)\n",
            "Collecting llama-index-legacy<0.10.0,>=0.9.48 (from llama_index)\n",
            "  Downloading llama_index_legacy-0.9.48-py3-none-any.whl (2.0 MB)\n",
            "\u001b[2K     \u001b[90m━━━━━━━━━━━━━━━━━━━━━━━━━━━━━━━━━━━━━━━━\u001b[0m \u001b[32m2.0/2.0 MB\u001b[0m \u001b[31m59.8 MB/s\u001b[0m eta \u001b[36m0:00:00\u001b[0m\n",
            "\u001b[?25hCollecting llama-index-llms-openai<0.2.0,>=0.1.13 (from llama_index)\n",
            "  Downloading llama_index_llms_openai-0.1.24-py3-none-any.whl (11 kB)\n",
            "Collecting llama-index-multi-modal-llms-openai<0.2.0,>=0.1.3 (from llama_index)\n",
            "  Downloading llama_index_multi_modal_llms_openai-0.1.6-py3-none-any.whl (5.8 kB)\n",
            "Collecting llama-index-program-openai<0.2.0,>=0.1.3 (from llama_index)\n",
            "  Downloading llama_index_program_openai-0.1.6-py3-none-any.whl (5.2 kB)\n",
            "Collecting llama-index-question-gen-openai<0.2.0,>=0.1.2 (from llama_index)\n",
            "  Downloading llama_index_question_gen_openai-0.1.3-py3-none-any.whl (2.9 kB)\n",
            "Collecting llama-index-readers-file<0.2.0,>=0.1.4 (from llama_index)\n",
            "  Downloading llama_index_readers_file-0.1.25-py3-none-any.whl (37 kB)\n",
            "Collecting llama-index-readers-llama-parse<0.2.0,>=0.1.2 (from llama_index)\n",
            "  Downloading llama_index_readers_llama_parse-0.1.4-py3-none-any.whl (2.5 kB)\n",
            "Requirement already satisfied: PyYAML>=6.0.1 in /usr/local/lib/python3.10/dist-packages (from llama-index-core==0.10.51->llama_index) (6.0.1)\n",
            "Requirement already satisfied: SQLAlchemy[asyncio]>=1.4.49 in /usr/local/lib/python3.10/dist-packages (from llama-index-core==0.10.51->llama_index) (2.0.31)\n",
            "Requirement already satisfied: aiohttp<4.0.0,>=3.8.6 in /usr/local/lib/python3.10/dist-packages (from llama-index-core==0.10.51->llama_index) (3.9.5)\n",
            "Collecting dataclasses-json (from llama-index-core==0.10.51->llama_index)\n",
            "  Downloading dataclasses_json-0.6.7-py3-none-any.whl (28 kB)\n",
            "Collecting deprecated>=1.2.9.3 (from llama-index-core==0.10.51->llama_index)\n",
            "  Downloading Deprecated-1.2.14-py2.py3-none-any.whl (9.6 kB)\n",
            "Collecting dirtyjson<2.0.0,>=1.0.8 (from llama-index-core==0.10.51->llama_index)\n",
            "  Downloading dirtyjson-1.0.8-py3-none-any.whl (25 kB)\n",
            "Requirement already satisfied: fsspec>=2023.5.0 in /usr/local/lib/python3.10/dist-packages (from llama-index-core==0.10.51->llama_index) (2023.6.0)\n",
            "Collecting httpx (from llama-index-core==0.10.51->llama_index)\n",
            "  Downloading httpx-0.27.0-py3-none-any.whl (75 kB)\n",
            "\u001b[2K     \u001b[90m━━━━━━━━━━━━━━━━━━━━━━━━━━━━━━━━━━━━━━━━\u001b[0m \u001b[32m75.6/75.6 kB\u001b[0m \u001b[31m9.1 MB/s\u001b[0m eta \u001b[36m0:00:00\u001b[0m\n",
            "\u001b[?25hCollecting llama-cloud<0.0.7,>=0.0.6 (from llama-index-core==0.10.51->llama_index)\n",
            "  Downloading llama_cloud-0.0.6-py3-none-any.whl (130 kB)\n",
            "\u001b[2K     \u001b[90m━━━━━━━━━━━━━━━━━━━━━━━━━━━━━━━━━━━━━━━━\u001b[0m \u001b[32m130.8/130.8 kB\u001b[0m \u001b[31m13.1 MB/s\u001b[0m eta \u001b[36m0:00:00\u001b[0m\n",
            "\u001b[?25hRequirement already satisfied: nest-asyncio<2.0.0,>=1.5.8 in /usr/local/lib/python3.10/dist-packages (from llama-index-core==0.10.51->llama_index) (1.6.0)\n",
            "Requirement already satisfied: networkx>=3.0 in /usr/local/lib/python3.10/dist-packages (from llama-index-core==0.10.51->llama_index) (3.3)\n",
            "Requirement already satisfied: nltk<4.0.0,>=3.8.1 in /usr/local/lib/python3.10/dist-packages (from llama-index-core==0.10.51->llama_index) (3.8.1)\n",
            "Requirement already satisfied: numpy<2.0.0 in /usr/local/lib/python3.10/dist-packages (from llama-index-core==0.10.51->llama_index) (1.25.2)\n",
            "Collecting openai>=1.1.0 (from llama-index-core==0.10.51->llama_index)\n",
            "  Downloading openai-1.35.7-py3-none-any.whl (327 kB)\n",
            "\u001b[2K     \u001b[90m━━━━━━━━━━━━━━━━━━━━━━━━━━━━━━━━━━━━━━━━\u001b[0m \u001b[32m327.5/327.5 kB\u001b[0m \u001b[31m34.2 MB/s\u001b[0m eta \u001b[36m0:00:00\u001b[0m\n",
            "\u001b[?25hRequirement already satisfied: pandas in /usr/local/lib/python3.10/dist-packages (from llama-index-core==0.10.51->llama_index) (2.0.3)\n",
            "Requirement already satisfied: pillow>=9.0.0 in /usr/local/lib/python3.10/dist-packages (from llama-index-core==0.10.51->llama_index) (9.4.0)\n",
            "Requirement already satisfied: requests>=2.31.0 in /usr/local/lib/python3.10/dist-packages (from llama-index-core==0.10.51->llama_index) (2.31.0)\n",
            "Requirement already satisfied: tenacity!=8.4.0,<9.0.0,>=8.2.0 in /usr/local/lib/python3.10/dist-packages (from llama-index-core==0.10.51->llama_index) (8.4.1)\n",
            "Collecting tiktoken>=0.3.3 (from llama-index-core==0.10.51->llama_index)\n",
            "  Downloading tiktoken-0.7.0-cp310-cp310-manylinux_2_17_x86_64.manylinux2014_x86_64.whl (1.1 MB)\n",
            "\u001b[2K     \u001b[90m━━━━━━━━━━━━━━━━━━━━━━━━━━━━━━━━━━━━━━━━\u001b[0m \u001b[32m1.1/1.1 MB\u001b[0m \u001b[31m56.5 MB/s\u001b[0m eta \u001b[36m0:00:00\u001b[0m\n",
            "\u001b[?25hRequirement already satisfied: tqdm<5.0.0,>=4.66.1 in /usr/local/lib/python3.10/dist-packages (from llama-index-core==0.10.51->llama_index) (4.66.4)\n",
            "Requirement already satisfied: typing-extensions>=4.5.0 in /usr/local/lib/python3.10/dist-packages (from llama-index-core==0.10.51->llama_index) (4.12.2)\n",
            "Collecting typing-inspect>=0.8.0 (from llama-index-core==0.10.51->llama_index)\n",
            "  Downloading typing_inspect-0.9.0-py3-none-any.whl (8.8 kB)\n",
            "Requirement already satisfied: wrapt in /usr/local/lib/python3.10/dist-packages (from llama-index-core==0.10.51->llama_index) (1.14.1)\n",
            "Requirement already satisfied: beautifulsoup4<5.0.0,>=4.12.3 in /usr/local/lib/python3.10/dist-packages (from llama-index-readers-file<0.2.0,>=0.1.4->llama_index) (4.12.3)\n",
            "Collecting pypdf<5.0.0,>=4.0.1 (from llama-index-readers-file<0.2.0,>=0.1.4->llama_index)\n",
            "  Downloading pypdf-4.2.0-py3-none-any.whl (290 kB)\n",
            "\u001b[2K     \u001b[90m━━━━━━━━━━━━━━━━━━━━━━━━━━━━━━━━━━━━━━━━\u001b[0m \u001b[32m290.4/290.4 kB\u001b[0m \u001b[31m30.5 MB/s\u001b[0m eta \u001b[36m0:00:00\u001b[0m\n",
            "\u001b[?25hCollecting striprtf<0.0.27,>=0.0.26 (from llama-index-readers-file<0.2.0,>=0.1.4->llama_index)\n",
            "  Downloading striprtf-0.0.26-py3-none-any.whl (6.9 kB)\n",
            "Collecting llama-parse<0.5.0,>=0.4.0 (from llama-index-readers-llama-parse<0.2.0,>=0.1.2->llama_index)\n",
            "  Downloading llama_parse-0.4.4-py3-none-any.whl (8.0 kB)\n",
            "Requirement already satisfied: aiosignal>=1.1.2 in /usr/local/lib/python3.10/dist-packages (from aiohttp<4.0.0,>=3.8.6->llama-index-core==0.10.51->llama_index) (1.3.1)\n",
            "Requirement already satisfied: attrs>=17.3.0 in /usr/local/lib/python3.10/dist-packages (from aiohttp<4.0.0,>=3.8.6->llama-index-core==0.10.51->llama_index) (23.2.0)\n",
            "Requirement already satisfied: frozenlist>=1.1.1 in /usr/local/lib/python3.10/dist-packages (from aiohttp<4.0.0,>=3.8.6->llama-index-core==0.10.51->llama_index) (1.4.1)\n",
            "Requirement already satisfied: multidict<7.0,>=4.5 in /usr/local/lib/python3.10/dist-packages (from aiohttp<4.0.0,>=3.8.6->llama-index-core==0.10.51->llama_index) (6.0.5)\n",
            "Requirement already satisfied: yarl<2.0,>=1.0 in /usr/local/lib/python3.10/dist-packages (from aiohttp<4.0.0,>=3.8.6->llama-index-core==0.10.51->llama_index) (1.9.4)\n",
            "Requirement already satisfied: async-timeout<5.0,>=4.0 in /usr/local/lib/python3.10/dist-packages (from aiohttp<4.0.0,>=3.8.6->llama-index-core==0.10.51->llama_index) (4.0.3)\n",
            "Requirement already satisfied: soupsieve>1.2 in /usr/local/lib/python3.10/dist-packages (from beautifulsoup4<5.0.0,>=4.12.3->llama-index-readers-file<0.2.0,>=0.1.4->llama_index) (2.5)\n",
            "Requirement already satisfied: pydantic>=1.10 in /usr/local/lib/python3.10/dist-packages (from llama-cloud<0.0.7,>=0.0.6->llama-index-core==0.10.51->llama_index) (2.7.4)\n",
            "Requirement already satisfied: anyio in /usr/local/lib/python3.10/dist-packages (from httpx->llama-index-core==0.10.51->llama_index) (3.7.1)\n",
            "Requirement already satisfied: certifi in /usr/local/lib/python3.10/dist-packages (from httpx->llama-index-core==0.10.51->llama_index) (2024.6.2)\n",
            "Collecting httpcore==1.* (from httpx->llama-index-core==0.10.51->llama_index)\n",
            "  Downloading httpcore-1.0.5-py3-none-any.whl (77 kB)\n",
            "\u001b[2K     \u001b[90m━━━━━━━━━━━━━━━━━━━━━━━━━━━━━━━━━━━━━━━━\u001b[0m \u001b[32m77.9/77.9 kB\u001b[0m \u001b[31m9.5 MB/s\u001b[0m eta \u001b[36m0:00:00\u001b[0m\n",
            "\u001b[?25hRequirement already satisfied: idna in /usr/local/lib/python3.10/dist-packages (from httpx->llama-index-core==0.10.51->llama_index) (3.7)\n",
            "Requirement already satisfied: sniffio in /usr/local/lib/python3.10/dist-packages (from httpx->llama-index-core==0.10.51->llama_index) (1.3.1)\n",
            "Collecting h11<0.15,>=0.13 (from httpcore==1.*->httpx->llama-index-core==0.10.51->llama_index)\n",
            "  Downloading h11-0.14.0-py3-none-any.whl (58 kB)\n",
            "\u001b[2K     \u001b[90m━━━━━━━━━━━━━━━━━━━━━━━━━━━━━━━━━━━━━━━━\u001b[0m \u001b[32m58.3/58.3 kB\u001b[0m \u001b[31m7.0 MB/s\u001b[0m eta \u001b[36m0:00:00\u001b[0m\n",
            "\u001b[?25hRequirement already satisfied: click in /usr/local/lib/python3.10/dist-packages (from nltk<4.0.0,>=3.8.1->llama-index-core==0.10.51->llama_index) (8.1.7)\n",
            "Requirement already satisfied: joblib in /usr/local/lib/python3.10/dist-packages (from nltk<4.0.0,>=3.8.1->llama-index-core==0.10.51->llama_index) (1.4.2)\n",
            "Requirement already satisfied: regex>=2021.8.3 in /usr/local/lib/python3.10/dist-packages (from nltk<4.0.0,>=3.8.1->llama-index-core==0.10.51->llama_index) (2024.5.15)\n",
            "Requirement already satisfied: distro<2,>=1.7.0 in /usr/lib/python3/dist-packages (from openai>=1.1.0->llama-index-core==0.10.51->llama_index) (1.7.0)\n",
            "Requirement already satisfied: charset-normalizer<4,>=2 in /usr/local/lib/python3.10/dist-packages (from requests>=2.31.0->llama-index-core==0.10.51->llama_index) (3.3.2)\n",
            "Requirement already satisfied: urllib3<3,>=1.21.1 in /usr/local/lib/python3.10/dist-packages (from requests>=2.31.0->llama-index-core==0.10.51->llama_index) (2.0.7)\n",
            "Requirement already satisfied: greenlet!=0.4.17 in /usr/local/lib/python3.10/dist-packages (from SQLAlchemy[asyncio]>=1.4.49->llama-index-core==0.10.51->llama_index) (3.0.3)\n",
            "Collecting mypy-extensions>=0.3.0 (from typing-inspect>=0.8.0->llama-index-core==0.10.51->llama_index)\n",
            "  Downloading mypy_extensions-1.0.0-py3-none-any.whl (4.7 kB)\n",
            "Collecting marshmallow<4.0.0,>=3.18.0 (from dataclasses-json->llama-index-core==0.10.51->llama_index)\n",
            "  Downloading marshmallow-3.21.3-py3-none-any.whl (49 kB)\n",
            "\u001b[2K     \u001b[90m━━━━━━━━━━━━━━━━━━━━━━━━━━━━━━━━━━━━━━━━\u001b[0m \u001b[32m49.2/49.2 kB\u001b[0m \u001b[31m5.5 MB/s\u001b[0m eta \u001b[36m0:00:00\u001b[0m\n",
            "\u001b[?25hRequirement already satisfied: python-dateutil>=2.8.2 in /usr/local/lib/python3.10/dist-packages (from pandas->llama-index-core==0.10.51->llama_index) (2.8.2)\n",
            "Requirement already satisfied: pytz>=2020.1 in /usr/local/lib/python3.10/dist-packages (from pandas->llama-index-core==0.10.51->llama_index) (2023.4)\n",
            "Requirement already satisfied: tzdata>=2022.1 in /usr/local/lib/python3.10/dist-packages (from pandas->llama-index-core==0.10.51->llama_index) (2024.1)\n",
            "Requirement already satisfied: exceptiongroup in /usr/local/lib/python3.10/dist-packages (from anyio->httpx->llama-index-core==0.10.51->llama_index) (1.2.1)\n",
            "Requirement already satisfied: packaging>=17.0 in /usr/local/lib/python3.10/dist-packages (from marshmallow<4.0.0,>=3.18.0->dataclasses-json->llama-index-core==0.10.51->llama_index) (24.1)\n",
            "Requirement already satisfied: annotated-types>=0.4.0 in /usr/local/lib/python3.10/dist-packages (from pydantic>=1.10->llama-cloud<0.0.7,>=0.0.6->llama-index-core==0.10.51->llama_index) (0.7.0)\n",
            "Requirement already satisfied: pydantic-core==2.18.4 in /usr/local/lib/python3.10/dist-packages (from pydantic>=1.10->llama-cloud<0.0.7,>=0.0.6->llama-index-core==0.10.51->llama_index) (2.18.4)\n",
            "Requirement already satisfied: six>=1.5 in /usr/local/lib/python3.10/dist-packages (from python-dateutil>=2.8.2->pandas->llama-index-core==0.10.51->llama_index) (1.16.0)\n",
            "Installing collected packages: striprtf, dirtyjson, pypdf, mypy-extensions, marshmallow, h11, deprecated, typing-inspect, tiktoken, httpcore, httpx, dataclasses-json, openai, llama-cloud, llama-index-legacy, llama-index-core, llama-parse, llama-index-readers-file, llama-index-llms-openai, llama-index-indices-managed-llama-cloud, llama-index-embeddings-openai, llama-index-readers-llama-parse, llama-index-multi-modal-llms-openai, llama-index-cli, llama-index-agent-openai, llama-index-program-openai, llama-index-question-gen-openai, llama_index\n",
            "Successfully installed dataclasses-json-0.6.7 deprecated-1.2.14 dirtyjson-1.0.8 h11-0.14.0 httpcore-1.0.5 httpx-0.27.0 llama-cloud-0.0.6 llama-index-agent-openai-0.2.7 llama-index-cli-0.1.12 llama-index-core-0.10.51 llama-index-embeddings-openai-0.1.10 llama-index-indices-managed-llama-cloud-0.2.2 llama-index-legacy-0.9.48 llama-index-llms-openai-0.1.24 llama-index-multi-modal-llms-openai-0.1.6 llama-index-program-openai-0.1.6 llama-index-question-gen-openai-0.1.3 llama-index-readers-file-0.1.25 llama-index-readers-llama-parse-0.1.4 llama-parse-0.4.4 llama_index-0.10.51 marshmallow-3.21.3 mypy-extensions-1.0.0 openai-1.35.7 pypdf-4.2.0 striprtf-0.0.26 tiktoken-0.7.0 typing-inspect-0.9.0\n"
          ]
        }
      ]
    },
    {
      "cell_type": "code",
      "execution_count": null,
      "id": "b9625ab2-71b6-4fd0-904e-42df80d3215f",
      "metadata": {
        "height": 47,
        "tags": [],
        "id": "b9625ab2-71b6-4fd0-904e-42df80d3215f"
      },
      "outputs": [],
      "source": [
        "import os\n",
        "\n",
        "\n",
        "os.environ[\"OPENAI_API_KEY\"] = \"your_api_key_here\"\n",
        "#using the crewAI OpenAI API key"
      ]
    },
    {
      "cell_type": "code",
      "execution_count": null,
      "id": "3221a474-5817-4db2-af46-e029042a75a5",
      "metadata": {
        "height": 47,
        "tags": [],
        "id": "3221a474-5817-4db2-af46-e029042a75a5"
      },
      "outputs": [],
      "source": [
        "import nest_asyncio\n",
        "nest_asyncio.apply()"
      ]
    },
    {
      "cell_type": "markdown",
      "id": "20adaa26",
      "metadata": {
        "id": "20adaa26"
      },
      "source": [
        "## 1. Setup an agent over 3 papers"
      ]
    },
    {
      "cell_type": "markdown",
      "id": "48b71ff6",
      "metadata": {
        "id": "48b71ff6"
      },
      "source": [
        "**Note**: The pdf files are included with this lesson. To access these papers, go to the `File` menu and select`Open...`."
      ]
    },
    {
      "cell_type": "code",
      "execution_count": null,
      "id": "ed10a24b-d65c-4b98-a93a-94ccdb8900d0",
      "metadata": {
        "height": 200,
        "tags": [],
        "id": "ed10a24b-d65c-4b98-a93a-94ccdb8900d0"
      },
      "outputs": [],
      "source": [
        "# urls = [\n",
        "#     \"https://openreview.net/pdf?id=VtmBAGCN7o\",\n",
        "#     \"https://openreview.net/pdf?id=6PmJoRfdaK\",\n",
        "#     \"https://openreview.net/pdf?id=hSyW5go0v8\",\n",
        "# ]\n",
        "# path for the documents/papers\n",
        "papers = [\n",
        "    \"/content/papers/Yoga-Vasishtha-Sara.pdf\",\n",
        "    \"/content/papers/bgita.pdf\",\n",
        "    \"/content/papers/the_butchers_gita.pdf\",\n",
        "]"
      ]
    },
    {
      "cell_type": "code",
      "execution_count": null,
      "id": "0d8f3185-3221-4b00-bd38-41d36e4a3307",
      "metadata": {
        "height": 149,
        "tags": [],
        "colab": {
          "base_uri": "https://localhost:8080/"
        },
        "id": "0d8f3185-3221-4b00-bd38-41d36e4a3307",
        "outputId": "6aa1387a-0e6f-459f-9bf5-675705f6bf52"
      },
      "outputs": [
        {
          "output_type": "stream",
          "name": "stdout",
          "text": [
            "Getting tools for paper: /content/papers/Yoga-Vasishtha-Sara.pdf\n"
          ]
        },
        {
          "output_type": "stream",
          "name": "stderr",
          "text": [
            "WARNING:llama_index.embeddings.openai.utils:Retrying llama_index.embeddings.openai.base.get_embeddings in 0.5204661212981141 seconds as it raised RateLimitError: Error code: 429 - {'error': {'message': 'Your account is not active, please check your billing details on our website.', 'type': 'billing_not_active', 'param': None, 'code': 'billing_not_active'}}.\n"
          ]
        },
        {
          "output_type": "stream",
          "name": "stdout",
          "text": [
            "Getting tools for paper: /content/papers/bgita.pdf\n"
          ]
        },
        {
          "output_type": "stream",
          "name": "stderr",
          "text": [
            "WARNING:pypdf._reader:Ignoring wrong pointing object 13 0 (offset 0)\n",
            "WARNING:pypdf._reader:Ignoring wrong pointing object 24 0 (offset 0)\n",
            "WARNING:pypdf._reader:Ignoring wrong pointing object 215 0 (offset 0)\n"
          ]
        },
        {
          "output_type": "stream",
          "name": "stdout",
          "text": [
            "Getting tools for paper: /content/papers/the_butchers_gita.pdf\n"
          ]
        }
      ],
      "source": [
        "from utils_L4_Building_Multi_Document_Agen import get_doc_tools\n",
        "from pathlib import Path\n",
        "paper_to_tools_dict = {}\n",
        "for paper in papers:\n",
        "    print(f\"Getting tools for paper: {paper}\")\n",
        "    vector_tool, summary_tool = get_doc_tools(paper, Path(paper).stem)\n",
        "    paper_to_tools_dict[paper] = [vector_tool, summary_tool]\n"
      ]
    },
    {
      "cell_type": "code",
      "execution_count": null,
      "id": "0e541bdd-14e1-41b6-81b5-b1bfda078d07",
      "metadata": {
        "height": 30,
        "tags": [],
        "id": "0e541bdd-14e1-41b6-81b5-b1bfda078d07"
      },
      "outputs": [],
      "source": [
        "initial_tools = [t for paper in papers for t in paper_to_tools_dict[paper]]"
      ]
    },
    {
      "cell_type": "code",
      "execution_count": null,
      "id": "bff58c52",
      "metadata": {
        "height": 64,
        "id": "bff58c52"
      },
      "outputs": [],
      "source": [
        "from llama_index.llms.openai import OpenAI\n",
        "\n",
        "llm = OpenAI(model=\"gpt-3.5-turbo\")"
      ]
    },
    {
      "cell_type": "code",
      "execution_count": null,
      "id": "2f2c6a9f",
      "metadata": {
        "height": 30,
        "colab": {
          "base_uri": "https://localhost:8080/"
        },
        "id": "2f2c6a9f",
        "outputId": "40e4bcd4-344a-4e0d-a7de-ff5f6acae3e6"
      },
      "outputs": [
        {
          "output_type": "execute_result",
          "data": {
            "text/plain": [
              "6"
            ]
          },
          "metadata": {},
          "execution_count": 22
        }
      ],
      "source": [
        "len(initial_tools)"
      ]
    },
    {
      "cell_type": "code",
      "execution_count": null,
      "id": "a124a438-5609-402e-8642-69d1088cb9ad",
      "metadata": {
        "height": 166,
        "tags": [],
        "id": "a124a438-5609-402e-8642-69d1088cb9ad"
      },
      "outputs": [],
      "source": [
        "from llama_index.core.agent import FunctionCallingAgentWorker\n",
        "from llama_index.core.agent import AgentRunner\n",
        "\n",
        "agent_worker = FunctionCallingAgentWorker.from_tools(\n",
        "    initial_tools,\n",
        "    llm=llm,\n",
        "    verbose=True\n",
        ")\n",
        "agent = AgentRunner(agent_worker)"
      ]
    },
    {
      "cell_type": "code",
      "execution_count": null,
      "id": "17409d4c-05a9-4bf4-b74f-75135fa3cb6b",
      "metadata": {
        "height": 81,
        "tags": [],
        "colab": {
          "base_uri": "https://localhost:8080/"
        },
        "id": "17409d4c-05a9-4bf4-b74f-75135fa3cb6b",
        "outputId": "9f4544db-cd91-4788-e414-cdfbe86f12c1"
      },
      "outputs": [
        {
          "output_type": "stream",
          "name": "stdout",
          "text": [
            "Added user message to memory: Tell me about the steps to achive Moksha, and then tell me how it is referenced in Bhagavad Gita, Vyadha Gita and Yoga Vasistha\n",
            "=== Calling Function ===\n",
            "Calling function: summary_tool_bgita with args: {\"input\": \"Steps to achieve Moksha\"}\n",
            "=== Function Output ===\n",
            "To achieve Moksha, one must cultivate a pure and unshaken mind through consistent study and practice of spiritual teachings, along with devotion and faith. It is essential to cultivate self-control, restrain the senses from sense-objects, and be free from attachment and aversion. By practicing meditation, controlling the mind, and developing a tranquil state, one can progress towards liberation. Maintaining a balanced intellect, steady wisdom, and inner peace, while following the path of self-control, detachment, and devotion, are key steps towards attaining Moksha. Additionally, engaging in acts of charity, worship, selfless service, and practicing austerities without attachment to results are important in the journey towards liberation. Surrendering to the Supreme Being, renouncing the fruits of actions, and cultivating devotion, equanimity, and contentment are crucial aspects of achieving Moksha. Ultimately, fixing the mind on the Lord, practicing meditation, renouncing the ego, and realizing the oneness with the universal essence are fundamental steps towards liberation.\n",
            "=== Calling Function ===\n",
            "Calling function: summary_tool_the_butchers_gita with args: {\"input\": \"References to Moksha in The Butchers Gita\"}\n",
            "=== Function Output ===\n",
            "Moksha is referenced in The Butchers Gita as the ultimate goal of spiritual practice, emphasizing the importance of self-control, renunciation, compassion, and adherence to Dharma. The text highlights the significance of serving one's parents, practicing austerities, and seeking liberation through devotion and righteous conduct. The concept of Moksha is intertwined with the idea of attaining eternal beatitude and ultimate freedom from the cycle of birth and death.\n",
            "=== Calling Function ===\n",
            "Calling function: summary_tool_Yoga-Vasishtha-Sara with args: {\"input\": \"References to Moksha in Yoga Vasistha\"}\n",
            "=== Function Output ===\n",
            "The text \"Yoga Vasistha Sara\" discusses the concept of Moksha, also known as liberation, extensively throughout its chapters. It emphasizes the importance of self-realization, detachment from the material world, and the ultimate goal of attaining supreme bliss through understanding the true nature of the Self. The text delves into the idea of transcending duality, realizing the indivisible nature of Brahman, and achieving a state of pure consciousness beyond the limitations of the mind. The pursuit of Moksha is portrayed as the highest aim of human life, leading to freedom from the cycle of birth and death and the experience of eternal peace and bliss.\n",
            "=== LLM Response ===\n",
            "In The Butchers Gita, Moksha is described as the ultimate goal of spiritual practice, focusing on self-control, renunciation, compassion, and adherence to Dharma. The text emphasizes serving parents, practicing austerities, and seeking liberation through devotion and righteous conduct.\n",
            "\n",
            "In Yoga Vasistha Sara, Moksha is extensively discussed as liberation, emphasizing self-realization, detachment from the material world, and attaining supreme bliss by understanding the true nature of the Self. The text explores transcending duality, realizing the indivisible nature of Brahman, and achieving a state of pure consciousness beyond the limitations of the mind. Pursuing Moksha is portrayed as the highest aim of human life, leading to freedom from the cycle of birth and death and experiencing eternal peace and bliss.\n"
          ]
        }
      ],
      "source": [
        "response = agent.query(\n",
        "    \"Tell me about the steps to achive Moksha, \"\n",
        "    \"and then tell me how it is referenced in Bhagavad Gita, Vyadha Gita and Yoga Vasistha\"\n",
        ")"
      ]
    },
    {
      "cell_type": "code",
      "execution_count": null,
      "id": "ace340b1-761f-4058-be41-68cf131541e4",
      "metadata": {
        "height": 47,
        "tags": [],
        "colab": {
          "base_uri": "https://localhost:8080/"
        },
        "id": "ace340b1-761f-4058-be41-68cf131541e4",
        "outputId": "aefb5461-bd5d-47b9-e4b5-3d0e71d3f59e"
      },
      "outputs": [
        {
          "output_type": "stream",
          "name": "stdout",
          "text": [
            "Added user message to memory: Give me a summary of Bhagavad Gita, Yoga Vasistha and Vyadha Gita\n",
            "=== Calling Function ===\n",
            "Calling function: summary_tool_bgita with args: {\"input\": \"Bhagavad Gita is a sacred Hindu scripture that is part of the Indian epic Mahabharata. It consists of a conversation between Prince Arjuna and the god Krishna, who serves as his charioteer. The text addresses the moral and philosophical dilemmas faced by Arjuna on the battlefield, emphasizing the concepts of duty, righteousness, and devotion.\"}\n",
            "=== Function Output ===\n",
            "The Bhagavad Gita is indeed a sacred Hindu scripture that is part of the Indian epic Mahabharata. It features a conversation between Prince Arjuna and the god Krishna, who acts as his charioteer. Throughout the text, the moral and philosophical dilemmas encountered by Arjuna on the battlefield are addressed, with a focus on the importance of duty, righteousness, and devotion.\n",
            "=== Calling Function ===\n",
            "Calling function: summary_tool_Yoga-Vasishtha-Sara with args: {\"input\": \"Yoga Vasistha is a philosophical text that explores the nature of reality, consciousness, and the illusion of the material world. It consists of a dialogue between Prince Rama and the sage Vasistha, where Vasistha imparts spiritual wisdom to Rama to help him overcome disillusionment and attain enlightenment.\"}\n",
            "=== Function Output ===\n",
            "Yoga Vasistha is a philosophical text that delves into the nature of reality, consciousness, and the illusion of the material world. It involves a dialogue between Prince Rama and the sage Vasistha, where spiritual wisdom is imparted to Rama to aid him in overcoming disillusionment and achieving enlightenment.\n",
            "=== Calling Function ===\n",
            "Calling function: summary_tool_the_butchers_gita with args: {\"input\": \"Vyadha Gita, also known as the Butcher's Gita, is a story from the Mahabharata where a butcher imparts spiritual teachings to a Brahmin. The butcher's wisdom challenges the Brahmin's beliefs and leads him to a deeper understanding of life and spirituality.\"}\n",
            "=== Function Output ===\n",
            "The story of Vyadha Gita, also known as the Butcher's Gita, from the Mahabharata illustrates a scenario where a butcher imparts spiritual teachings to a Brahmin. Through the butcher's wisdom, the Brahmin's beliefs are challenged, ultimately leading him to a profound understanding of life and spirituality.\n",
            "=== LLM Response ===\n",
            "Here are summaries of Bhagavad Gita, Yoga Vasistha, and Vyadha Gita:\n",
            "\n",
            "1. Bhagavad Gita: It is a sacred Hindu scripture part of the Mahabharata. The text features a conversation between Prince Arjuna and the god Krishna, addressing moral and philosophical dilemmas on the battlefield, emphasizing duty, righteousness, and devotion.\n",
            "\n",
            "2. Yoga Vasistha: A philosophical text exploring reality, consciousness, and the illusion of the material world. It involves a dialogue between Prince Rama and the sage Vasistha, imparting spiritual wisdom to help Rama overcome disillusionment and attain enlightenment.\n",
            "\n",
            "3. Vyadha Gita (The Butcher's Gita): A story from the Mahabharata where a butcher imparts spiritual teachings to a Brahmin, challenging his beliefs and leading him to a deeper understanding of life and spirituality.\n",
            "Here are summaries of Bhagavad Gita, Yoga Vasistha, and Vyadha Gita:\n",
            "\n",
            "1. Bhagavad Gita: It is a sacred Hindu scripture part of the Mahabharata. The text features a conversation between Prince Arjuna and the god Krishna, addressing moral and philosophical dilemmas on the battlefield, emphasizing duty, righteousness, and devotion.\n",
            "\n",
            "2. Yoga Vasistha: A philosophical text exploring reality, consciousness, and the illusion of the material world. It involves a dialogue between Prince Rama and the sage Vasistha, imparting spiritual wisdom to help Rama overcome disillusionment and attain enlightenment.\n",
            "\n",
            "3. Vyadha Gita (The Butcher's Gita): A story from the Mahabharata where a butcher imparts spiritual teachings to a Brahmin, challenging his beliefs and leading him to a deeper understanding of life and spirituality.\n"
          ]
        }
      ],
      "source": [
        "response = agent.query(\"Give me a summary of Bhagavad Gita, Yoga Vasistha and Vyadha Gita\")\n",
        "print(str(response))"
      ]
    },
    {
      "cell_type": "markdown",
      "id": "7eede70c",
      "metadata": {
        "id": "7eede70c"
      },
      "source": [
        "## 2. Setup an agent over 10 papers, as a test using 3 only."
      ]
    },
    {
      "cell_type": "markdown",
      "id": "18771e69",
      "metadata": {
        "id": "18771e69"
      },
      "source": []
    },
    {
      "cell_type": "code",
      "execution_count": null,
      "id": "60d01d2c-547f-4054-b0fe-ed9b1a9cc3b5",
      "metadata": {
        "height": 472,
        "tags": [],
        "id": "60d01d2c-547f-4054-b0fe-ed9b1a9cc3b5"
      },
      "outputs": [],
      "source": [
        "\n",
        "papers = [\n",
        "    \"/content/papers/Yoga-Vasishtha-Sara.pdf\",\n",
        "    \"/content/papers/bgita.pdf\",\n",
        "    \"/content/papers/the_butchers_gita.pdf\",\n",
        "]\n"
      ]
    },
    {
      "cell_type": "code",
      "execution_count": null,
      "id": "ea5ee34d-02ac-4537-ae20-7ef6c5767172",
      "metadata": {
        "height": 149,
        "tags": [],
        "colab": {
          "base_uri": "https://localhost:8080/"
        },
        "id": "ea5ee34d-02ac-4537-ae20-7ef6c5767172",
        "outputId": "7a869483-ff7e-49a0-e973-1ed7882f1225"
      },
      "outputs": [
        {
          "output_type": "stream",
          "name": "stdout",
          "text": [
            "Getting tools for paper: /content/papers/Yoga-Vasishtha-Sara.pdf\n",
            "Getting tools for paper: /content/papers/bgita.pdf\n"
          ]
        },
        {
          "output_type": "stream",
          "name": "stderr",
          "text": [
            "WARNING:pypdf._reader:Ignoring wrong pointing object 13 0 (offset 0)\n",
            "WARNING:pypdf._reader:Ignoring wrong pointing object 24 0 (offset 0)\n",
            "WARNING:pypdf._reader:Ignoring wrong pointing object 215 0 (offset 0)\n"
          ]
        },
        {
          "output_type": "stream",
          "name": "stdout",
          "text": [
            "Getting tools for paper: /content/papers/the_butchers_gita.pdf\n"
          ]
        }
      ],
      "source": [
        "from utils_L4_Building_Multi_Document_Agen import get_doc_tools\n",
        "from pathlib import Path\n",
        "\n",
        "paper_to_tools_dict = {}\n",
        "for paper in papers:\n",
        "    print(f\"Getting tools for paper: {paper}\")\n",
        "    vector_tool, summary_tool = get_doc_tools(paper, Path(paper).stem)\n",
        "    paper_to_tools_dict[paper] = [vector_tool, summary_tool]"
      ]
    },
    {
      "cell_type": "markdown",
      "id": "4e35d52c",
      "metadata": {
        "id": "4e35d52c"
      },
      "source": [
        "### Extend the Agent with Tool Retrieval"
      ]
    },
    {
      "cell_type": "code",
      "execution_count": null,
      "id": "20154923-873e-4941-9a3a-4926ab5f9b8c",
      "metadata": {
        "height": 30,
        "tags": [],
        "id": "20154923-873e-4941-9a3a-4926ab5f9b8c"
      },
      "outputs": [],
      "source": [
        "all_tools = [t for paper in papers for t in paper_to_tools_dict[paper]]"
      ]
    },
    {
      "cell_type": "code",
      "execution_count": null,
      "id": "671582f9-70d7-4a8f-b813-58b2a068ca72",
      "metadata": {
        "height": 149,
        "tags": [],
        "id": "671582f9-70d7-4a8f-b813-58b2a068ca72"
      },
      "outputs": [],
      "source": [
        "# define an \"object\" index and retriever over these tools\n",
        "from llama_index.core import VectorStoreIndex\n",
        "from llama_index.core.objects import ObjectIndex\n",
        "\n",
        "obj_index = ObjectIndex.from_objects(\n",
        "    all_tools,\n",
        "    index_cls=VectorStoreIndex,\n",
        ")"
      ]
    },
    {
      "cell_type": "code",
      "execution_count": null,
      "id": "c3929882-e9dc-46ca-b495-53e3ed60340e",
      "metadata": {
        "height": 30,
        "tags": [],
        "id": "c3929882-e9dc-46ca-b495-53e3ed60340e"
      },
      "outputs": [],
      "source": [
        "obj_retriever = obj_index.as_retriever(similarity_top_k=3)"
      ]
    },
    {
      "cell_type": "code",
      "execution_count": null,
      "id": "ba9cfecd-fe14-4da8-b9ba-b3d485d98a03",
      "metadata": {
        "height": 64,
        "tags": [],
        "id": "ba9cfecd-fe14-4da8-b9ba-b3d485d98a03"
      },
      "outputs": [],
      "source": [
        "tools = obj_retriever.retrieve(\n",
        "    \"Tell me about Karma Yoga as in Bhagavad Gita and Vyadha Gita\"\n",
        ")"
      ]
    },
    {
      "cell_type": "code",
      "execution_count": null,
      "id": "c270ffbf-69c7-48ea-a028-9ba25221cde5",
      "metadata": {
        "height": 30,
        "tags": [],
        "colab": {
          "base_uri": "https://localhost:8080/"
        },
        "id": "c270ffbf-69c7-48ea-a028-9ba25221cde5",
        "outputId": "f76149b0-a132-4aa1-8f12-8eb8e9c8eef3"
      },
      "outputs": [
        {
          "output_type": "execute_result",
          "data": {
            "text/plain": [
              "ToolMetadata(description='Useful for summarization questions related to bgita', name='summary_tool_bgita', fn_schema=<class 'llama_index.core.tools.types.DefaultToolFnSchema'>, return_direct=False)"
            ]
          },
          "metadata": {},
          "execution_count": 33
        }
      ],
      "source": [
        "tools[2].metadata"
      ]
    },
    {
      "cell_type": "code",
      "execution_count": null,
      "id": "9cc0a0b6-9858-4348-9ae0-1cd4160f3fb7",
      "metadata": {
        "height": 251,
        "tags": [],
        "id": "9cc0a0b6-9858-4348-9ae0-1cd4160f3fb7"
      },
      "outputs": [],
      "source": [
        "from llama_index.core.agent import FunctionCallingAgentWorker\n",
        "from llama_index.core.agent import AgentRunner\n",
        "\n",
        "agent_worker = FunctionCallingAgentWorker.from_tools(\n",
        "    tool_retriever=obj_retriever,\n",
        "    llm=llm,\n",
        "    system_prompt=\"\"\" \\\n",
        "You are an agent designed to answer queries over a set of given documents.\n",
        "Please always use the tools provided to answer a question. Do not rely on prior knowledge.\\\n",
        "\n",
        "\"\"\",\n",
        "    verbose=True\n",
        ")\n",
        "agent = AgentRunner(agent_worker)"
      ]
    },
    {
      "cell_type": "code",
      "execution_count": null,
      "id": "a250cf1a-e011-4994-bcca-4e0294f20864",
      "metadata": {
        "height": 98,
        "tags": [],
        "colab": {
          "base_uri": "https://localhost:8080/"
        },
        "id": "a250cf1a-e011-4994-bcca-4e0294f20864",
        "outputId": "6144edea-a084-4b2d-bbb4-e53f27a50ee7"
      },
      "outputs": [
        {
          "output_type": "stream",
          "name": "stdout",
          "text": [
            "Added user message to memory: Tell me about Karma Yoga as in Bhagavad Gita and Vyadha Gita and compare it against Yoga Vasistha\n",
            "=== Calling Function ===\n",
            "Calling function: summary_tool_bgita with args: {\"input\": \"Karma Yoga in Bhagavad Gita\"}\n",
            "=== Function Output ===\n",
            "Karma Yoga in the Bhagavad Gita emphasizes selfless action, performing duties without attachment to the results, and dedicating all actions to the divine. It teaches individuals to focus on their responsibilities with devotion and righteousness, renouncing personal desires and ego. By following the path of Karma Yoga, individuals can purify their minds, cultivate detachment, and progress spiritually towards liberation from the cycle of birth and death.\n",
            "=== Calling Function ===\n",
            "Calling function: summary_tool_the_butchers_gita with args: {\"input\": \"Karma Yoga in Vyadha Gita\"}\n",
            "=== Function Output ===\n",
            "Karma Yoga in Vyadha Gita emphasizes virtuous conduct, self-discipline, selfless service, and dedication to duty. It underscores the importance of following the teachings of the Vedas, serving gurus, practicing non-violence, and adhering to Dharma guided by scriptures. The text also highlights the significance of self-control, pursuit of spiritual knowledge, and the qualities of sattva. Ultimately, Karma Yoga in Vyadha Gita is exemplified through the story of the butcher's selfless service to his parents, showcasing the essence of performing actions selflessly and with dedication, without attachment to the results.\n",
            "=== Calling Function ===\n",
            "Calling function: summary_tool_Yoga-Vasishtha-Sara with args: {\"input\": \"Karma Yoga in Yoga Vasistha\"}\n",
            "=== Function Output ===\n",
            "Karma Yoga in Yoga Vasistha emphasizes the importance of performing actions selflessly, without attachment to the results. It teaches that by engaging in actions with a sense of duty and surrendering the outcomes to a higher power, individuals can attain spiritual growth and liberation. The text highlights the significance of maintaining inner purity and focusing on selfless service as a means to transcend the ego and realize the ultimate truth of the Self.\n",
            "=== LLM Response ===\n",
            "Karma Yoga in the Bhagavad Gita emphasizes selfless action, performing duties without attachment to the results, and dedicating all actions to the divine. It teaches individuals to focus on their responsibilities with devotion and righteousness, renouncing personal desires and ego. By following the path of Karma Yoga, individuals can purify their minds, cultivate detachment, and progress spiritually towards liberation from the cycle of birth and death.\n",
            "\n",
            "Karma Yoga in Vyadha Gita emphasizes virtuous conduct, self-discipline, selfless service, and dedication to duty. It underscores the importance of following the teachings of the Vedas, serving gurus, practicing non-violence, and adhering to Dharma guided by scriptures. The text also highlights the significance of self-control, pursuit of spiritual knowledge, and the qualities of sattva. Ultimately, Karma Yoga in Vyadha Gita is exemplified through the story of the butcher's selfless service to his parents, showcasing the essence of performing actions selflessly and with dedication, without attachment to the results.\n",
            "\n",
            "Karma Yoga in Yoga Vasistha emphasizes the importance of performing actions selflessly, without attachment to the results. It teaches that by engaging in actions with a sense of duty and surrendering the outcomes to a higher power, individuals can attain spiritual growth and liberation. The text highlights the significance of maintaining inner purity and focusing on selfless service as a means to transcend the ego and realize the ultimate truth of the Self.\n",
            "Karma Yoga in the Bhagavad Gita emphasizes selfless action, performing duties without attachment to the results, and dedicating all actions to the divine. It teaches individuals to focus on their responsibilities with devotion and righteousness, renouncing personal desires and ego. By following the path of Karma Yoga, individuals can purify their minds, cultivate detachment, and progress spiritually towards liberation from the cycle of birth and death.\n",
            "\n",
            "Karma Yoga in Vyadha Gita emphasizes virtuous conduct, self-discipline, selfless service, and dedication to duty. It underscores the importance of following the teachings of the Vedas, serving gurus, practicing non-violence, and adhering to Dharma guided by scriptures. The text also highlights the significance of self-control, pursuit of spiritual knowledge, and the qualities of sattva. Ultimately, Karma Yoga in Vyadha Gita is exemplified through the story of the butcher's selfless service to his parents, showcasing the essence of performing actions selflessly and with dedication, without attachment to the results.\n",
            "\n",
            "Karma Yoga in Yoga Vasistha emphasizes the importance of performing actions selflessly, without attachment to the results. It teaches that by engaging in actions with a sense of duty and surrendering the outcomes to a higher power, individuals can attain spiritual growth and liberation. The text highlights the significance of maintaining inner purity and focusing on selfless service as a means to transcend the ego and realize the ultimate truth of the Self.\n"
          ]
        }
      ],
      "source": [
        "response = agent.query(\n",
        "    \"Tell me about Karma Yoga as in Bhagavad Gita and Vyadha Gita \"\n",
        "    \"and compare it against Yoga Vasistha\"\n",
        ")\n",
        "print(str(response))"
      ]
    },
    {
      "cell_type": "code",
      "execution_count": null,
      "id": "8084c8cb-98ed-4835-aaa4-5b0c7254be6d",
      "metadata": {
        "height": 81,
        "tags": [],
        "colab": {
          "base_uri": "https://localhost:8080/"
        },
        "id": "8084c8cb-98ed-4835-aaa4-5b0c7254be6d",
        "outputId": "63dc9339-160d-43a6-b6c5-a68609347656"
      },
      "outputs": [
        {
          "output_type": "stream",
          "name": "stdout",
          "text": [
            "Added user message to memory: Compare and contrast the wisdom in Bhagavad Gita, Yoga Vasistham and Vyadha Gita. Analyze the approach in each paper first. \n",
            "=== Calling Function ===\n",
            "Calling function: summary_tool_bgita with args: {\"input\": \"Analyzing the wisdom and approach in Bhagavad Gita\"}\n",
            "=== Function Output ===\n",
            "The Bhagavad Gita imparts profound wisdom on various aspects of life, emphasizing the importance of devotion, selfless action, knowledge, and surrender to the divine. Its approach combines philosophical depth with practical application, guiding individuals towards self-realization and inner peace. The text stresses the significance of selfless action, detachment from outcomes, controlling the mind, and seeking refuge in wisdom for peace and liberation. It highlights the paths of Karma Yoga and Sannyasa, promoting moderation, concentration, and discipline in daily life for spiritual progress. The Gita also underscores the importance of faith, dispassion, and constant effort in the pursuit of spiritual wisdom and union with the Supreme, ultimately encouraging individuals to seek spiritual enlightenment, transcend worldly attachments, and attain inner peace through devotion and selfless service.\n",
            "=== Calling Function ===\n",
            "Calling function: summary_tool_Yoga-Vasishtha-Sara with args: {\"input\": \"Analyzing the wisdom and approach in Yoga Vasistham\"}\n",
            "=== Function Output ===\n",
            "The wisdom and approach in Yoga Vasistham emphasize the importance of self-realization, detachment from worldly desires, and the understanding of the true nature of the Self. The text delves into the concept of non-duality, the illusory nature of the world, and the significance of meditation and self-inquiry in attaining liberation. It highlights the need to transcend the mind, recognize the unity of all existence, and realize the eternal, unchanging nature of consciousness. The teachings stress the importance of discernment, renunciation of ego, and the continuous practice of self-awareness to experience the ultimate state of bliss and oneness with the Supreme Self.\n",
            "=== Calling Function ===\n",
            "Calling function: summary_tool_the_butchers_gita with args: {\"input\": \"Analyzing the wisdom and approach in Vyadha Gita\"}\n",
            "=== Function Output ===\n",
            "The wisdom and approach in Vyadha Gita focus on the importance of virtuous conduct, adherence to Dharma, and the significance of self-discipline and spiritual knowledge. It emphasizes the qualities of sattva, rajas, and tamas, highlighting the impact of the senses on spiritual progress and the path towards liberation through self-realization. The text also underscores the value of selfless service, reverence towards parents, and fulfilling one's duties with virtues like compassion, truthfulness, and humility. Additionally, it illustrates the transformative power of knowledge, self-realization, and the consequences of one's actions, emphasizing the path to spiritual growth through service, respect, and righteousness.\n",
            "=== LLM Response ===\n",
            "The Bhagavad Gita, Yoga Vasistham, and Vyadha Gita each offer unique wisdom and approaches to life:\n",
            "\n",
            "1. **Bhagavad Gita**: The Bhagavad Gita imparts profound wisdom on devotion, selfless action, knowledge, and surrender to the divine. It combines philosophical depth with practical application, guiding individuals towards self-realization and inner peace. The text emphasizes selfless action, detachment from outcomes, controlling the mind, and seeking refuge in wisdom for peace and liberation. It promotes paths like Karma Yoga and Sannyasa, advocating moderation, concentration, and discipline for spiritual progress. The Gita underscores faith, dispassion, and constant effort in the pursuit of spiritual wisdom and union with the Supreme.\n",
            "\n",
            "2. **Yoga Vasistham**: Yoga Vasistham focuses on self-realization, detachment from desires, and understanding the true nature of the Self. It delves into non-duality, the illusory nature of the world, and the importance of meditation and self-inquiry for liberation. The teachings stress transcending the mind, recognizing the unity of existence, and realizing the eternal nature of consciousness. Discernment, renunciation of ego, and continuous self-awareness are highlighted for experiencing bliss and oneness with the Supreme Self.\n",
            "\n",
            "3. **Vyadha Gita**: Vyadha Gita emphasizes virtuous conduct, adherence to Dharma, self-discipline, and spiritual knowledge. It discusses the qualities of sattva, rajas, and tamas, and the impact of senses on spiritual progress. The text underscores selfless service, reverence towards parents, and fulfilling duties with virtues like compassion and truthfulness. It illustrates the transformative power of knowledge, self-realization, and the consequences of actions, emphasizing spiritual growth through service, respect, and righteousness.\n",
            "\n",
            "Each text offers a unique perspective on life, spiritual growth, and the path to liberation, highlighting different aspects of wisdom and approaches to attain inner peace and self-realization.\n",
            "The Bhagavad Gita, Yoga Vasistham, and Vyadha Gita each offer unique wisdom and approaches to life:\n",
            "\n",
            "1. **Bhagavad Gita**: The Bhagavad Gita imparts profound wisdom on devotion, selfless action, knowledge, and surrender to the divine. It combines philosophical depth with practical application, guiding individuals towards self-realization and inner peace. The text emphasizes selfless action, detachment from outcomes, controlling the mind, and seeking refuge in wisdom for peace and liberation. It promotes paths like Karma Yoga and Sannyasa, advocating moderation, concentration, and discipline for spiritual progress. The Gita underscores faith, dispassion, and constant effort in the pursuit of spiritual wisdom and union with the Supreme.\n",
            "\n",
            "2. **Yoga Vasistham**: Yoga Vasistham focuses on self-realization, detachment from desires, and understanding the true nature of the Self. It delves into non-duality, the illusory nature of the world, and the importance of meditation and self-inquiry for liberation. The teachings stress transcending the mind, recognizing the unity of existence, and realizing the eternal nature of consciousness. Discernment, renunciation of ego, and continuous self-awareness are highlighted for experiencing bliss and oneness with the Supreme Self.\n",
            "\n",
            "3. **Vyadha Gita**: Vyadha Gita emphasizes virtuous conduct, adherence to Dharma, self-discipline, and spiritual knowledge. It discusses the qualities of sattva, rajas, and tamas, and the impact of senses on spiritual progress. The text underscores selfless service, reverence towards parents, and fulfilling duties with virtues like compassion and truthfulness. It illustrates the transformative power of knowledge, self-realization, and the consequences of actions, emphasizing spiritual growth through service, respect, and righteousness.\n",
            "\n",
            "Each text offers a unique perspective on life, spiritual growth, and the path to liberation, highlighting different aspects of wisdom and approaches to attain inner peace and self-realization.\n"
          ]
        }
      ],
      "source": [
        "response = agent.query(\n",
        "    \"Compare and contrast the wisdom in Bhagavad Gita, Yoga Vasistham and Vyadha Gita. \"\n",
        "    \"Analyze the approach in each paper first. \"\n",
        ")\n",
        "print(str(response))"
      ]
    },
    {
      "cell_type": "code",
      "source": [
        "response = agent.chat(\n",
        "    \"Write a brief article on the above in markdown format, incoporating all the above text..\"\n",
        ")"
      ],
      "metadata": {
        "colab": {
          "base_uri": "https://localhost:8080/"
        },
        "id": "DOgZHhgMIbWn",
        "outputId": "a7f2d956-d336-4b7d-d4b5-9d28b13ce6bd"
      },
      "id": "DOgZHhgMIbWn",
      "execution_count": null,
      "outputs": [
        {
          "output_type": "stream",
          "name": "stdout",
          "text": [
            "Added user message to memory: Write a brief article on the above in markdown format, incoporating all the above text..\n",
            "=== LLM Response ===\n",
            "# Wisdom and Approaches in Bhagavad Gita, Yoga Vasistham, and Vyadha Gita\n",
            "\n",
            "The Bhagavad Gita, Yoga Vasistham, and Vyadha Gita are ancient texts that offer profound wisdom and unique approaches to life, spirituality, and self-realization. Each text presents valuable insights and teachings that guide individuals on their spiritual journey towards inner peace and liberation.\n",
            "\n",
            "## Bhagavad Gita\n",
            "The Bhagavad Gita imparts deep wisdom on devotion, selfless action, knowledge, and surrender to the divine. Its approach combines philosophical depth with practical application, emphasizing selfless action, detachment from outcomes, and seeking refuge in wisdom for peace and liberation. The Gita promotes paths like Karma Yoga and Sannyasa, advocating moderation, concentration, and discipline for spiritual progress. It underscores faith, dispassion, and constant effort in the pursuit of spiritual wisdom and union with the Supreme.\n",
            "\n",
            "## Yoga Vasistham\n",
            "Yoga Vasistham focuses on self-realization, detachment from worldly desires, and understanding the true nature of the Self. The text delves into non-duality, the illusory nature of the world, and the importance of meditation and self-inquiry for liberation. It highlights transcending the mind, recognizing the unity of existence, and realizing the eternal nature of consciousness. Discernment, renunciation of ego, and continuous self-awareness are emphasized for experiencing bliss and oneness with the Supreme Self.\n",
            "\n",
            "## Vyadha Gita\n",
            "Vyadha Gita emphasizes virtuous conduct, adherence to Dharma, self-discipline, and spiritual knowledge. It discusses the qualities of sattva, rajas, and tamas, and the impact of senses on spiritual progress. The text underscores selfless service, reverence towards parents, and fulfilling duties with virtues like compassion and truthfulness. It illustrates the transformative power of knowledge, self-realization, and the consequences of actions, emphasizing spiritual growth through service, respect, and righteousness.\n",
            "\n",
            "In conclusion, these texts offer diverse perspectives on life, spiritual growth, and the path to liberation. They provide valuable teachings on devotion, selflessness, self-realization, and the pursuit of inner peace. By studying and reflecting on the wisdom contained in the Bhagavad Gita, Yoga Vasistham, and Vyadha Gita, individuals can gain profound insights into the nature of existence and the journey towards spiritual enlightenment.\n"
          ]
        }
      ]
    }
  ],
  "metadata": {
    "kernelspec": {
      "display_name": "Python 3 (ipykernel)",
      "language": "python",
      "name": "python3"
    },
    "language_info": {
      "codemirror_mode": {
        "name": "ipython",
        "version": 3
      },
      "file_extension": ".py",
      "mimetype": "text/x-python",
      "name": "python",
      "nbconvert_exporter": "python",
      "pygments_lexer": "ipython3",
      "version": "3.11.9"
    },
    "colab": {
      "provenance": []
    }
  },
  "nbformat": 4,
  "nbformat_minor": 5
}
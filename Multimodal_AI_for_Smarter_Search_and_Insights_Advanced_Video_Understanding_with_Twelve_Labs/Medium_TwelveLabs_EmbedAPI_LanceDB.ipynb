{
  "nbformat": 4,
  "nbformat_minor": 0,
  "metadata": {
    "colab": {
      "provenance": []
    },
    "kernelspec": {
      "name": "python3",
      "display_name": "Python 3"
    },
    "language_info": {
      "name": "python"
    }
  },
  "cells": [
    {
      "cell_type": "code",
      "execution_count": null,
      "metadata": {
        "id": "B8X6h_6B36sB"
      },
      "outputs": [],
      "source": [
        "# Install Twelve Labs SDK\n",
        "!pip install -U -q twelvelabs"
      ]
    },
    {
      "cell_type": "code",
      "source": [
        "# Install the lancedb library\n",
        "!pip install -U -q lancedb"
      ],
      "metadata": {
        "colab": {
          "base_uri": "https://localhost:8080/"
        },
        "id": "_cIHqCct4cxY",
        "outputId": "ca91673e-6891-4e6a-fbc2-4116d94a3c31"
      },
      "execution_count": null,
      "outputs": [
        {
          "output_type": "stream",
          "name": "stdout",
          "text": [
            "\u001b[2K   \u001b[90m━━━━━━━━━━━━━━━━━━━━━━━━━━━━━━━━━━━━━━━━\u001b[0m \u001b[32m29.9/29.9 MB\u001b[0m \u001b[31m46.9 MB/s\u001b[0m eta \u001b[36m0:00:00\u001b[0m\n",
            "\u001b[2K   \u001b[90m━━━━━━━━━━━━━━━━━━━━━━━━━━━━━━━━━━━━━━━━\u001b[0m \u001b[32m33.5/33.5 MB\u001b[0m \u001b[31m15.8 MB/s\u001b[0m eta \u001b[36m0:00:00\u001b[0m\n",
            "\u001b[?25h"
          ]
        }
      ]
    },
    {
      "cell_type": "code",
      "source": [
        "# Set Up Vector Database\n",
        "import lancedb\n",
        "import pyarrow as pa\n",
        "\n",
        "# Create or connect to a LanceDB database\n",
        "db = lancedb.connect(\"my_video_embeddings_db\")\n",
        "\n",
        "# Define the schema for your video embeddings\n",
        "schema = pa.schema(\n",
        "    [\n",
        "        pa.field(\"video_id\", pa.string()),\n",
        "        pa.field(\"embedding\", pa.list_(pa.float32(), 1024)),  # Adjust the vector dimension as needed\n",
        "        pa.field(\"start_time\", pa.float32()),\n",
        "        pa.field(\"end_time\", pa.float32()),\n",
        "        pa.field(\"video_url\", pa.string())\n",
        "    ]\n",
        ")\n",
        "\n",
        "# Create a table for storing video embeddings, providing the schema\n",
        "table = db.create_table(\"video_embeddings\", schema=schema, mode=\"overwrite\")"
      ],
      "metadata": {
        "id": "5M9aUH0z448v"
      },
      "execution_count": null,
      "outputs": []
    },
    {
      "cell_type": "code",
      "source": [
        "from google.colab import userdata\n",
        "TL_API_KEY=userdata.get('TL_API_KEY')"
      ],
      "metadata": {
        "id": "8sSsfIkF6gXA"
      },
      "execution_count": null,
      "outputs": []
    },
    {
      "cell_type": "code",
      "source": [
        "# Generating Embeddings with Twelve Labs API\n",
        "from twelvelabs import TwelveLabs\n",
        "from twelvelabs.models.embed import EmbeddingsTask\n",
        "\n",
        "# Initialize the Twelve Labs client\n",
        "twelvelabs_client = TwelveLabs(api_key=TL_API_KEY)\n",
        "\n",
        "def generate_embedding(video_url):\n",
        "    # Create an embedding task\n",
        "    task = twelvelabs_client.embed.task.create(\n",
        "        model_name=\"Marengo-retrieval-2.7\",\n",
        "        video_url=video_url\n",
        "    )\n",
        "\n",
        "    print(f\"Created task: id={task.id} status={task.status} model_name={task.model_name}\")\n",
        "\n",
        "    # Define a callback function to monitor task progress\n",
        "    def on_task_update(task: EmbeddingsTask):\n",
        "        print(f\" Status={task.status}\")\n",
        "\n",
        "    # Wait for the task to complete\n",
        "    status = task.wait_for_done(\n",
        "        sleep_interval=2,\n",
        "        callback=on_task_update\n",
        "    )\n",
        "    print(f\"Embedding done: {status}\")\n",
        "\n",
        "    # Retrieve the task result\n",
        "    task_result = twelvelabs_client.embed.task.retrieve(task.id)\n",
        "\n",
        "    # Extract and return the embeddings\n",
        "    embeddings = []\n",
        "    # Access the segments through video_embedding.segments\n",
        "    for segment in task_result.video_embedding.segments:\n",
        "        embeddings.append({\n",
        "            'embedding': segment.embeddings_float,\n",
        "            'start_offset_sec': segment.start_offset_sec,\n",
        "            'end_offset_sec': segment.end_offset_sec,\n",
        "            'embedding_scope': segment.embedding_scope #clip or video\n",
        "        })\n",
        "\n",
        "    return embeddings, task_result\n",
        "\n",
        "# Example usage\n",
        "video_url = \"http://lakshonline.com/wp-content/uploads/2024/12/nicole_trailer.mp4\"\n",
        "embeddings, task_result = generate_embedding(video_url)\n",
        "print(f\"Generated {len(embeddings)} embeddings for the video\")\n",
        "\n",
        "for i, emb in enumerate(embeddings):\n",
        "    print(f\"Embedding {i+1}:\")\n",
        "    print(f\" Scope: {emb['embedding_scope']}\")\n",
        "    print(f\" Time range: {emb['start_offset_sec']} - {emb['end_offset_sec']} seconds\")\n",
        "    print(f\" Embedding vector (first 5 values): {emb['embedding'][:5]}\")\n",
        "    print()"
      ],
      "metadata": {
        "colab": {
          "base_uri": "https://localhost:8080/"
        },
        "id": "GlihU09EZfWY",
        "outputId": "79d6fa90-0cc1-4073-e526-9826263c14bb"
      },
      "execution_count": null,
      "outputs": [
        {
          "output_type": "stream",
          "name": "stdout",
          "text": [
            "Created task: id=6768eb16c8d47cd895c4308e status=processing model_name=Marengo-retrieval-2.7\n",
            " Status=processing\n",
            " Status=processing\n",
            " Status=processing\n",
            " Status=processing\n",
            " Status=processing\n",
            " Status=processing\n",
            " Status=processing\n",
            " Status=processing\n",
            " Status=processing\n",
            " Status=processing\n",
            " Status=processing\n",
            " Status=processing\n",
            " Status=processing\n",
            " Status=processing\n",
            " Status=processing\n",
            " Status=processing\n",
            " Status=ready\n",
            "Embedding done: ready\n",
            "Generated 24 embeddings for the video\n",
            "Embedding 1:\n",
            " Scope: clip\n",
            " Time range: 0.0 - 6.0 seconds\n",
            " Embedding vector (first 5 values): [0.082840234, -0.01033165, 0.00512286, 0.010688391, -0.01757237]\n",
            "\n",
            "Embedding 2:\n",
            " Scope: clip\n",
            " Time range: 6.0 - 12.0 seconds\n",
            " Embedding vector (first 5 values): [0.052370224, -0.0027802594, -0.03038719, 0.026639426, -0.025815303]\n",
            "\n",
            "Embedding 3:\n",
            " Scope: clip\n",
            " Time range: 12.0 - 18.0 seconds\n",
            " Embedding vector (first 5 values): [0.084818855, -0.009348972, 0.012168455, -0.01385785, -0.02165269]\n",
            "\n",
            "Embedding 4:\n",
            " Scope: clip\n",
            " Time range: 18.0 - 24.0 seconds\n",
            " Embedding vector (first 5 values): [0.06541354, 0.016587175, 0.008154782, 0.0047409865, -0.032478802]\n",
            "\n",
            "Embedding 5:\n",
            " Scope: clip\n",
            " Time range: 24.0 - 30.0 seconds\n",
            " Embedding vector (first 5 values): [0.07818347, 0.004112131, -0.00761035, -0.009069592, -0.01592634]\n",
            "\n",
            "Embedding 6:\n",
            " Scope: clip\n",
            " Time range: 30.0 - 36.0 seconds\n",
            " Embedding vector (first 5 values): [0.06601996, -0.009962473, 0.007382719, -0.0037690727, -0.020261142]\n",
            "\n",
            "Embedding 7:\n",
            " Scope: clip\n",
            " Time range: 36.0 - 42.0 seconds\n",
            " Embedding vector (first 5 values): [0.070969604, -0.020382984, 0.0030921323, -0.010005342, -0.017596116]\n",
            "\n",
            "Embedding 8:\n",
            " Scope: clip\n",
            " Time range: 42.0 - 48.0 seconds\n",
            " Embedding vector (first 5 values): [0.08103355, 0.031762086, -0.020336643, -0.0141566945, -0.060740083]\n",
            "\n",
            "Embedding 9:\n",
            " Scope: clip\n",
            " Time range: 48.0 - 54.0 seconds\n",
            " Embedding vector (first 5 values): [0.06896239, -0.018148564, -0.014055077, 0.008926782, -0.020985255]\n",
            "\n",
            "Embedding 10:\n",
            " Scope: clip\n",
            " Time range: 54.0 - 60.0 seconds\n",
            " Embedding vector (first 5 values): [0.07810625, -0.008645195, -0.037827592, -0.0028642386, -0.03906666]\n",
            "\n",
            "Embedding 11:\n",
            " Scope: clip\n",
            " Time range: 60.0 - 66.0 seconds\n",
            " Embedding vector (first 5 values): [0.06552343, 0.0019738688, 0.0075401813, -0.0006393515, -0.016203012]\n",
            "\n",
            "Embedding 12:\n",
            " Scope: clip\n",
            " Time range: 66.0 - 72.0 seconds\n",
            " Embedding vector (first 5 values): [0.064114384, -0.005568673, -0.024993204, 0.014145911, -0.032762732]\n",
            "\n",
            "Embedding 13:\n",
            " Scope: clip\n",
            " Time range: 72.0 - 78.0 seconds\n",
            " Embedding vector (first 5 values): [0.07171392, -0.009079691, -0.020099252, -0.0163494, -0.018593838]\n",
            "\n",
            "Embedding 14:\n",
            " Scope: clip\n",
            " Time range: 78.0 - 84.0 seconds\n",
            " Embedding vector (first 5 values): [0.07615384, 0.011516653, -0.0001504879, -0.008608382, -0.033476707]\n",
            "\n",
            "Embedding 15:\n",
            " Scope: clip\n",
            " Time range: 84.0 - 90.0 seconds\n",
            " Embedding vector (first 5 values): [0.08241332, 0.0014808857, -0.01292231, -0.0032894132, -0.018616695]\n",
            "\n",
            "Embedding 16:\n",
            " Scope: clip\n",
            " Time range: 90.0 - 96.0 seconds\n",
            " Embedding vector (first 5 values): [0.07958415, -0.014359395, -0.03995013, 0.013802707, -0.024378814]\n",
            "\n",
            "Embedding 17:\n",
            " Scope: clip\n",
            " Time range: 96.0 - 102.0 seconds\n",
            " Embedding vector (first 5 values): [0.08334559, -0.03770993, -0.03843579, -0.00858255, -0.02461778]\n",
            "\n",
            "Embedding 18:\n",
            " Scope: clip\n",
            " Time range: 102.0 - 108.0 seconds\n",
            " Embedding vector (first 5 values): [0.08070722, -0.010664652, -0.005487191, -0.0055029555, 0.01522002]\n",
            "\n",
            "Embedding 19:\n",
            " Scope: clip\n",
            " Time range: 108.0 - 114.0 seconds\n",
            " Embedding vector (first 5 values): [0.065790184, 0.00577166, -0.010344833, -0.006143313, -0.019144252]\n",
            "\n",
            "Embedding 20:\n",
            " Scope: clip\n",
            " Time range: 114.0 - 120.0 seconds\n",
            " Embedding vector (first 5 values): [0.0662847, 0.010991174, -0.009457741, 0.022298727, 0.004057128]\n",
            "\n",
            "Embedding 21:\n",
            " Scope: clip\n",
            " Time range: 120.0 - 126.0 seconds\n",
            " Embedding vector (first 5 values): [0.06820014, 0.012573618, -0.004923882, 0.0024262262, -0.03036602]\n",
            "\n",
            "Embedding 22:\n",
            " Scope: clip\n",
            " Time range: 126.0 - 132.0 seconds\n",
            " Embedding vector (first 5 values): [0.0762129, 0.017496193, -0.03213481, 0.009240487, -0.0007176567]\n",
            "\n",
            "Embedding 23:\n",
            " Scope: clip\n",
            " Time range: 132.0 - 138.0 seconds\n",
            " Embedding vector (first 5 values): [0.09660866, -0.009705242, -0.026820706, -0.014185537, -0.015430066]\n",
            "\n",
            "Embedding 24:\n",
            " Scope: clip\n",
            " Time range: 138.0 - 144.0 seconds\n",
            " Embedding vector (first 5 values): [0.070314996, -0.0070526865, -0.011505786, 0.0031615272, -0.0052554286]\n",
            "\n"
          ]
        }
      ]
    },
    {
      "cell_type": "code",
      "source": [
        "# Storing Embeddings into LanceDB\n",
        "import uuid\n",
        "\n",
        "# Function to insert embeddings into LanceDB\n",
        "def insert_embeddings(embeddings, video_url):\n",
        "    data_to_insert = []\n",
        "    for emb in embeddings:\n",
        "        data_to_insert.append({\n",
        "            \"video_id\": str(uuid.uuid4()),  # Generate a unique ID for each embedding\n",
        "            \"embedding\": emb['embedding'],\n",
        "            \"start_time\": emb['start_offset_sec'],\n",
        "            \"end_time\": emb['end_offset_sec'],\n",
        "            \"video_url\": video_url\n",
        "        })\n",
        "\n",
        "    table.add(data_to_insert)\n",
        "    print(f\"Inserted {len(data_to_insert)} embeddings for video: {video_url}\")"
      ],
      "metadata": {
        "id": "kl-SKV_q8K5B"
      },
      "execution_count": null,
      "outputs": []
    },
    {
      "cell_type": "code",
      "source": [
        "# Use the function to insert the embeddings we generated earlier\n",
        "insert_embeddings(embeddings, video_url)\n",
        "\n",
        "# Verify the insertion\n",
        "print(f\"Total embeddings in the table: {len(table)}\")"
      ],
      "metadata": {
        "colab": {
          "base_uri": "https://localhost:8080/"
        },
        "id": "uqw_oyxK9TJK",
        "outputId": "6cfbe809-1fd4-44a8-81a3-deac2897ac17"
      },
      "execution_count": null,
      "outputs": [
        {
          "output_type": "stream",
          "name": "stdout",
          "text": [
            "Inserted 24 embeddings for video: http://lakshonline.com/wp-content/uploads/2024/12/nicole_trailer.mp4\n",
            "Total embeddings in the table: 24\n"
          ]
        }
      ]
    },
    {
      "cell_type": "code",
      "source": [
        "# Querying and Retrieving Embeddings\n",
        "# Function to perform similarity search\n",
        "def similarity_search(query_embedding, k=2):\n",
        "    results = table.search(query_embedding).limit(k).to_list()\n",
        "    return results\n",
        "\n",
        "# Function to get embedding for a text query\n",
        "def get_text_embedding(text_query):\n",
        "    result = twelvelabs_client.embed.create(\n",
        "        model_name=\"Marengo-retrieval-2.7\",\n",
        "        text=text_query,\n",
        "        text_truncate=\"start\"\n",
        "    )\n",
        "\n",
        "    # Get embedding from the first (and likely only) segment\n",
        "    embedding_vector = None\n",
        "    if result.text_embedding.segments:\n",
        "        segment = result.text_embedding.segments[0]\n",
        "        embedding_vector = segment.embeddings_float\n",
        "\n",
        "    return embedding_vector\n",
        "\n",
        "# Example usage: Text-based search\n",
        "text_query = \"An window with skyscrapers\"\n",
        "query_embedding = get_text_embedding(text_query)\n",
        "print(\"\\nQuery embedding length:\", len(query_embedding) if query_embedding else \"No embedding found\")\n",
        "\n",
        "if query_embedding:\n",
        "    search_results = similarity_search(query_embedding)\n",
        "    for i, result in enumerate(search_results):\n",
        "        print(f\"\\nMatch {i+1}:\")\n",
        "        print(f\"Distance: {result['_distance']:.4f}\")  # Similarity score (lower is better)\n",
        "        print(f\"Time range: {result['start_time']:.2f}s - {result['end_time']:.2f}s\")\n",
        "        print(f\"Video ID: {result['video_id']}\")\n",
        "        print(f\"Video URL: {result['video_url']}\")"
      ],
      "metadata": {
        "colab": {
          "base_uri": "https://localhost:8080/"
        },
        "id": "in8Xbw6GrQz-",
        "outputId": "7515ee90-0ec2-4922-d8e1-c6c907c4f797"
      },
      "execution_count": null,
      "outputs": [
        {
          "output_type": "stream",
          "name": "stdout",
          "text": [
            "\n",
            "Query embedding length: 1024\n",
            "\n",
            "Match 1:\n",
            "Distance: 1.3039\n",
            "Time range: 36.00s - 42.00s\n",
            "Video ID: 7f590871-9fcf-4c88-9f20-c3236fed19d0\n",
            "Video URL: http://lakshonline.com/wp-content/uploads/2024/12/nicole_trailer.mp4\n",
            "\n",
            "Match 2:\n",
            "Distance: 1.4188\n",
            "Time range: 54.00s - 60.00s\n",
            "Video ID: 5895e425-97a8-49ca-b6b3-e88ce52b298c\n",
            "Video URL: http://lakshonline.com/wp-content/uploads/2024/12/nicole_trailer.mp4\n"
          ]
        }
      ]
    },
    {
      "cell_type": "code",
      "source": [
        "# Function to retrieve video segment details\n",
        "def get_video_segment(video_url, start_time, end_time):\n",
        "    return f\"{video_url}?start={start_time}&end={end_time}\"\n",
        "\n",
        "# Retrieve specific video segment for the top result\n",
        "top_result = search_results[0]\n",
        "video_segment = get_video_segment(top_result['video_url'],\n",
        "                                  top_result['start_time'],\n",
        "                                  top_result['end_time'])\n",
        "print(f\"Link to top result video segment: {video_segment}\")"
      ],
      "metadata": {
        "colab": {
          "base_uri": "https://localhost:8080/"
        },
        "id": "QoFtF-7ZCHHe",
        "outputId": "dd4a52d7-6f89-4888-d7a7-f92dcf8bd3aa"
      },
      "execution_count": null,
      "outputs": [
        {
          "output_type": "stream",
          "name": "stdout",
          "text": [
            "Link to top result video segment: http://lakshonline.com/wp-content/uploads/2024/12/nicole_trailer.mp4?start=36.0&end=42.0\n"
          ]
        }
      ]
    }
  ]
}
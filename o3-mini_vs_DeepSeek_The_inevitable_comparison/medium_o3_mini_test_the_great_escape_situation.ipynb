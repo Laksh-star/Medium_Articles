{
  "nbformat": 4,
  "nbformat_minor": 0,
  "metadata": {
    "colab": {
      "provenance": []
    },
    "kernelspec": {
      "name": "python3",
      "display_name": "Python 3"
    },
    "language_info": {
      "name": "python"
    }
  },
  "cells": [
    {
      "cell_type": "code",
      "source": [],
      "metadata": {
        "id": "YhnE3WQLVnP-"
      },
      "execution_count": null,
      "outputs": []
    },
    {
      "cell_type": "code",
      "execution_count": null,
      "metadata": {
        "colab": {
          "base_uri": "https://localhost:8080/"
        },
        "id": "TTUj5S-BVkOu",
        "outputId": "5c11385f-b44d-4618-e296-c6b1bdfc9661"
      },
      "outputs": [
        {
          "output_type": "stream",
          "name": "stdout",
          "text": [
            "Team Leader: All right, Carl, we need to discuss the dirt situation. The tunnel's progress is good, but every shovel full of soil adds another problem. What’s your take on our options?\n",
            "\n",
            "Carl (Person in Charge of Digging): I've been thinking about it, sir. We could try storing the dirt near the tunnel, maybe pile it up to cover the opening. But that risks drawing attention—if the guards notice an unusual mound, it could lead them right to us.\n",
            "\n",
            "Team Leader: True. We could also consider hauling it out bit by bit, but that gives us too many trips and increases the chance of detection. And then there’s the idea of pushing it further down the hill. Still, that might require extra work and could be discovered when someone notices disturbed earth.\n",
            "\n",
            "Carl: Exactly. My worry is that if we create a dedicated disposal area, it might become known. We need something more integrated into the environment. I was also considering whether we could use the dirt to reinforce weak spots in the tunnel. But that wouldn’t clear the space sufficiently, and it could risk our progress if the tunnel collapses.\n",
            "\n",
            "Team Leader: I've been looking at the terrain as well, and then it struck me—why not dispose of the soil in the river? We could quietly funnel it into the water during the late hours when watch is minimal. The river’s current would carry it away, and the natural murk would hide anything that might look out of place.\n",
            "\n",
            "Carl: The river? That might just work. The water’s constant motion would dilute any suspicious buildup. We could also use the natural sounds to mask any scraping or shifting noises from diverting the dirt.\n",
            "\n",
            "Team Leader: Precisely. We’d need to plan the diversion carefully. Clear a path from the tunnel to a less monitored section of the riverbank, and then work during the darkest hours. While it will demand extra coordination, it’s the least conspicuous solution we have.\n",
            "\n",
            "Carl: It does sound like our best option, sir. I’ll reposition the crew and start mapping out a discreet route along the camp’s edge to the river. We’ll have to minimize our footprint, but I believe it’s manageable.\n",
            "\n",
            "Team Leader: Excellent. Keep the team motivated and vigilant. Every load of dirt safely deposited in the river brings us one step closer to freedom. Let’s get to work, Carl.\n",
            "\n",
            "Carl: Understood, sir. I’ll brief the crew and set things in motion right away.\n",
            "\n",
            "Team Leader: Good. Remember, discretion is our lifeline now. We’ll talk details once you have a plan mapped out. Stay sharp.\n",
            "\n",
            "Carl: Will do—let’s dig deep and keep our heads low.\n"
          ]
        }
      ],
      "source": [
        "from openai import OpenAI\n",
        "client = OpenAI(api_key=\"api_key_here\")\n",
        "\n",
        "prompt = \"\"\"\n",
        "I am writing a script set in a POW camp during World War II.\n",
        "It's about the prisoners' attempts to escape by digging tunnels.\n",
        "One scene involves a discussion about the various problems encountered while digging,\n",
        "specifically the challenge of disposing of the excavated dirt.\n",
        "The dirt presents a significant problem.  Please create a dialogue between the team leader and the\n",
        "person in charge of digging, where the team leader considers various options for disposing of the dirt and zeroes on the most logical option of all.\n",
        "\"\"\"\n",
        "\n",
        "response = client.chat.completions.create(\n",
        "    model=\"o3-mini\",\n",
        "    reasoning_effort=\"low\",\n",
        "    messages=[\n",
        "        {\n",
        "            \"role\": \"user\",\n",
        "            \"content\": prompt\n",
        "        }\n",
        "    ]\n",
        ")\n",
        "\n",
        "print(response.choices[0].message.content)"
      ]
    },
    {
      "cell_type": "code",
      "source": [],
      "metadata": {
        "id": "hsxfA-7GbJlt"
      },
      "execution_count": null,
      "outputs": []
    },
    {
      "cell_type": "code",
      "source": [
        "from openai import OpenAI\n",
        "client = OpenAI(api_key=\"api_key_here\")\n",
        "\n",
        "prompt = \"\"\"\n",
        "I am writing a script set in a POW camp during World War II.\n",
        "It's about the prisoners' attempts to escape by digging tunnels.\n",
        "One scene involves a discussion about the various problems encountered while digging,\n",
        "specifically the challenge of disposing of the excavated dirt.\n",
        "The dirt presents a significant problem.  Please create a dialogue between the team leader and the\n",
        "person in charge of digging, where the team leader considers various options for disposing of the dirt and zeroes on the most logical option of all.\n",
        "\"\"\"\n",
        "\n",
        "response = client.chat.completions.create(\n",
        "    model=\"o3-mini\",\n",
        "    reasoning_effort=\"medium\",\n",
        "    messages=[\n",
        "        {\n",
        "            \"role\": \"user\",\n",
        "            \"content\": prompt\n",
        "        }\n",
        "    ]\n",
        ")\n",
        "\n",
        "print(response.choices[0].message.content)"
      ],
      "metadata": {
        "colab": {
          "base_uri": "https://localhost:8080/"
        },
        "id": "sTMC0Q22WbuN",
        "outputId": "abafe5df-0dfe-4761-a00b-f02334254c81"
      },
      "execution_count": null,
      "outputs": [
        {
          "output_type": "stream",
          "name": "stdout",
          "text": [
            "[Scene: A cramped, dimly lit underground office in a POW camp. Maps and covert sketches of the camp and surrounding terrain are spread out on a worn table. The Team Leader, Jackson, speaks in hushed tones to Carter, the man in charge of digging.]\n",
            "\n",
            "Jackson: Carter, listen up. We’ve got a new problem besides the obvious – our tunnel’s growing, yes, but so is the pile of dirt. If those guards catch wind of extra mounds of earth outside, our whole operation could be blown.\n",
            "\n",
            "Carter: I know, sir. I’ve been thinking about it. I see a few options, but each comes with its own risk. One idea is to just cart it out over the camp walls at night. Make it look like we’re moving regular equipment. But moving large quantities in one go might catch a guard’s eye.\n",
            "\n",
            "Jackson: That’s a risk I’m not willing to take. Besides, if a guard sees a suspicious convoy dragging dirt away rather than supplies… they won’t hesistate. What about depositing it in the latrine pit? The stench might mask it, and guards wouldn’t be too curious about extra muck there.\n",
            "\n",
            "Carter: I've thought of that too. But the latrines are under close watch, and any pile-up could force an inspection. Not to mention, mixing our tunnel’s dirt with human waste isn't exactly hygienic—and it might create a stink that draws unwanted attention during routine checks.\n",
            "\n",
            "Jackson: True, true. Then there’s the idea of scattering it in small piles around the campyard. Maybe even along the periphery near the feed supplies. But those areas are regularly patrolled. We can’t afford any little mound that looks out of place.\n",
            "\n",
            "Carter: Right… I even considered mixing the dirt back into the tunnel wall to disguise the effort. But that would weaken our tunnel structure and risk a premature collapse. Our escape route must remain solid until the very end.\n",
            "\n",
            "Jackson: Exactly. We need an option that’s both logical and subtle. (He studies the map, tapping a pencil against the paper.) What do you think about that small dip behind the guardhouse—the one that funnels into the shallow drainage ditch? It's naturally lower than the surrounding ground.\n",
            "\n",
            "Carter: You mean using the drain area? That could work. The dirt, spread in several thin layers, would just blend with the natural soil there. And since it’s a depression, wouldn’t the rain eventually redistribute it so it doesn’t appear as an unnatural buildup?\n",
            "\n",
            "Jackson: Precisely. It’s the least suspicious option. We’d have the dirt gradually carried away by runoff, merging with the existing earth. The guards, if they were to come by, would see it as a natural part of the terrain. We keep it dispersed and low-key.\n",
            "\n",
            "Carter: We could move it bit by bit, during shifts that coincide with routine tasks. A few men using the camp’s service cart under cover of darkness, perhaps timed with a forecasted rain. That way, the water does our dirty work—literally.\n",
            "\n",
            "Jackson: Exactly. No sudden large movements, no conspicuous piles. We use the natural landscape against our own predicament. If we plan carefully, the dirt will vanish from sight before anyone can piece it together.\n",
            "\n",
            "Carter: I agree. The drain behind the guardhouse is our best bet. I’ll brief the digging crew; we’ll organize shifts to shift the dirt in small loads. We can cover it with soil from the camp’s perimeter if necessary, just to even out any irregularities.\n",
            "\n",
            "Jackson: Good. That settles it then. We’ll designate that area as our disposal site, and keep it dispersed and concealed by nature. Remember, Carter, every man must be discreet. Any error could jeopardize the whole escape.\n",
            "\n",
            "Carter: Understood, sir. I’ll see that the orders are followed to the letter. We’ll move every clod of dirt without leaving a trace.\n",
            "\n",
            "Jackson: Very well. Operation Clean Sweep is a go. Let’s make sure our route to freedom remains hidden beneath layers of quiet earth—and determination.\n",
            "\n",
            "[They exchange a resolute nod as the scene fades, the weight of hope and risk heavy in every whispered word.]\n"
          ]
        }
      ]
    },
    {
      "cell_type": "code",
      "source": [
        "import pprint\n",
        "pprint.pprint(response.choices[0].message.content)"
      ],
      "metadata": {
        "colab": {
          "base_uri": "https://localhost:8080/"
        },
        "id": "EFcsZ5r9X6ul",
        "outputId": "c429e4ca-cb25-4152-d3d2-b7bbc13fdd13"
      },
      "execution_count": null,
      "outputs": [
        {
          "output_type": "stream",
          "name": "stdout",
          "text": [
            "('[Scene: A cramped, dimly lit underground office in a POW camp. Maps and '\n",
            " 'covert sketches of the camp and surrounding terrain are spread out on a worn '\n",
            " 'table. The Team Leader, Jackson, speaks in hushed tones to Carter, the man '\n",
            " 'in charge of digging.]\\n'\n",
            " '\\n'\n",
            " 'Jackson: Carter, listen up. We’ve got a new problem besides the obvious – '\n",
            " 'our tunnel’s growing, yes, but so is the pile of dirt. If those guards catch '\n",
            " 'wind of extra mounds of earth outside, our whole operation could be blown.\\n'\n",
            " '\\n'\n",
            " 'Carter: I know, sir. I’ve been thinking about it. I see a few options, but '\n",
            " 'each comes with its own risk. One idea is to just cart it out over the camp '\n",
            " 'walls at night. Make it look like we’re moving regular equipment. But moving '\n",
            " 'large quantities in one go might catch a guard’s eye.\\n'\n",
            " '\\n'\n",
            " 'Jackson: That’s a risk I’m not willing to take. Besides, if a guard sees a '\n",
            " 'suspicious convoy dragging dirt away rather than supplies… they won’t '\n",
            " 'hesistate. What about depositing it in the latrine pit? The stench might '\n",
            " 'mask it, and guards wouldn’t be too curious about extra muck there.\\n'\n",
            " '\\n'\n",
            " \"Carter: I've thought of that too. But the latrines are under close watch, \"\n",
            " 'and any pile-up could force an inspection. Not to mention, mixing our '\n",
            " \"tunnel’s dirt with human waste isn't exactly hygienic—and it might create a \"\n",
            " 'stink that draws unwanted attention during routine checks.\\n'\n",
            " '\\n'\n",
            " 'Jackson: True, true. Then there’s the idea of scattering it in small piles '\n",
            " 'around the campyard. Maybe even along the periphery near the feed supplies. '\n",
            " 'But those areas are regularly patrolled. We can’t afford any little mound '\n",
            " 'that looks out of place.\\n'\n",
            " '\\n'\n",
            " 'Carter: Right… I even considered mixing the dirt back into the tunnel wall '\n",
            " 'to disguise the effort. But that would weaken our tunnel structure and risk '\n",
            " 'a premature collapse. Our escape route must remain solid until the very '\n",
            " 'end.\\n'\n",
            " '\\n'\n",
            " 'Jackson: Exactly. We need an option that’s both logical and subtle. (He '\n",
            " 'studies the map, tapping a pencil against the paper.) What do you think '\n",
            " 'about that small dip behind the guardhouse—the one that funnels into the '\n",
            " \"shallow drainage ditch? It's naturally lower than the surrounding ground.\\n\"\n",
            " '\\n'\n",
            " 'Carter: You mean using the drain area? That could work. The dirt, spread in '\n",
            " 'several thin layers, would just blend with the natural soil there. And since '\n",
            " 'it’s a depression, wouldn’t the rain eventually redistribute it so it '\n",
            " 'doesn’t appear as an unnatural buildup?\\n'\n",
            " '\\n'\n",
            " 'Jackson: Precisely. It’s the least suspicious option. We’d have the dirt '\n",
            " 'gradually carried away by runoff, merging with the existing earth. The '\n",
            " 'guards, if they were to come by, would see it as a natural part of the '\n",
            " 'terrain. We keep it dispersed and low-key.\\n'\n",
            " '\\n'\n",
            " 'Carter: We could move it bit by bit, during shifts that coincide with '\n",
            " 'routine tasks. A few men using the camp’s service cart under cover of '\n",
            " 'darkness, perhaps timed with a forecasted rain. That way, the water does our '\n",
            " 'dirty work—literally.\\n'\n",
            " '\\n'\n",
            " 'Jackson: Exactly. No sudden large movements, no conspicuous piles. We use '\n",
            " 'the natural landscape against our own predicament. If we plan carefully, the '\n",
            " 'dirt will vanish from sight before anyone can piece it together.\\n'\n",
            " '\\n'\n",
            " 'Carter: I agree. The drain behind the guardhouse is our best bet. I’ll brief '\n",
            " 'the digging crew; we’ll organize shifts to shift the dirt in small loads. We '\n",
            " 'can cover it with soil from the camp’s perimeter if necessary, just to even '\n",
            " 'out any irregularities.\\n'\n",
            " '\\n'\n",
            " 'Jackson: Good. That settles it then. We’ll designate that area as our '\n",
            " 'disposal site, and keep it dispersed and concealed by nature. Remember, '\n",
            " 'Carter, every man must be discreet. Any error could jeopardize the whole '\n",
            " 'escape.\\n'\n",
            " '\\n'\n",
            " 'Carter: Understood, sir. I’ll see that the orders are followed to the '\n",
            " 'letter. We’ll move every clod of dirt without leaving a trace.\\n'\n",
            " '\\n'\n",
            " 'Jackson: Very well. Operation Clean Sweep is a go. Let’s make sure our route '\n",
            " 'to freedom remains hidden beneath layers of quiet earth—and determination.\\n'\n",
            " '\\n'\n",
            " '[They exchange a resolute nod as the scene fades, the weight of hope and '\n",
            " 'risk heavy in every whispered word.]')\n"
          ]
        }
      ]
    },
    {
      "cell_type": "code",
      "source": [],
      "metadata": {
        "id": "1E9bxtNxdhAg"
      },
      "execution_count": null,
      "outputs": []
    },
    {
      "cell_type": "code",
      "source": [
        "from openai import OpenAI\n",
        "client = OpenAI(api_key=\"api_key_here\")\n",
        "\n",
        "prompt = \"\"\"\n",
        "I am writing a script set in a POW camp during World War II.\n",
        "It's about the prisoners' attempts to escape by digging tunnels.\n",
        "One scene involves a discussion about the various problems encountered while digging,\n",
        "specifically the challenge of disposing of the excavated dirt.\n",
        "The dirt presents a significant problem.  Please create a dialogue between the team leader and the\n",
        "person in charge of digging, where the team leader considers various options for disposing of the dirt and zeroes on the most logical option of all.\n",
        "\"\"\"\n",
        "\n",
        "response = client.chat.completions.create(\n",
        "    model=\"o3-mini\",\n",
        "    reasoning_effort=\"high\",\n",
        "    messages=[\n",
        "        {\n",
        "            \"role\": \"user\",\n",
        "            \"content\": prompt\n",
        "        }\n",
        "    ]\n",
        ")\n",
        "\n",
        "print(response.choices[0].message.content)"
      ],
      "metadata": {
        "colab": {
          "base_uri": "https://localhost:8080/"
        },
        "id": "rEM24QtRbL2N",
        "outputId": "ddde9cd8-2e6e-43ca-b84b-73bef0e2b723"
      },
      "execution_count": null,
      "outputs": [
        {
          "output_type": "stream",
          "name": "stdout",
          "text": [
            "Team Leader: We’ve got another issue to deal with—the dirt. Every shovelful we remove from the tunnel leaves a trail. We need a foolproof plan to dispose of it without raising any suspicions.\n",
            "\n",
            "Digging Chief: I know, sir. The pile’s growing faster than we can hide it. What options are we looking at?\n",
            "\n",
            "Team Leader: Well, our first thought was to haul it out under cover of darkness, scattering small amounts along the perimeter. But that carries its own risks—if any pile is noted, the guards will start asking questions.\n",
            "\n",
            "Digging Chief: Right. Dumping it near the latrines crossed my mind too. The camp is used to maintenance there; extra soil might just be chalked up to repairs or routine touch-ups.\n",
            "\n",
            "Team Leader: I considered that, but the latrine area is under constant watch. Not to mention, any unusual odor or disruption will draw unwanted attention. We need somewhere the extra dirt won’t look out of place at all.\n",
            "\n",
            "Digging Chief: What about the vegetable garden? The camp always brings in fresh soil there for planting. Extra earth wouldn’t seem abnormal in that context.\n",
            "\n",
            "Team Leader: That’s what I was thinking too. The garden’s our best cover—no one is going to raise an eyebrow when they see a little extra soil being mixed in with the regular planting supplies. The guards scarcely pay any attention there, assuming it’s just routine.\n",
            "\n",
            "Digging Chief: So, we funnel our excavated dirt into the garden. We’ll have to manage it carefully—transport it in small loads, and time it so it coincides with the usual soil deliveries and gardening activities.\n",
            "\n",
            "Team Leader: Exactly. Keeping the transfers gradual will help avoid any sudden, suspicious build-up. We make it look like a normal, albeit extra, supply of soil. It’s a slow process, but it’s the safest bet for keeping our tunnel a secret.\n",
            "\n",
            "Digging Chief: I’ll coordinate with the team to start moving the dirt in small buckets. We can even claim we’re assisting the gardeners with some extra work. That way, if anyone asks, it’s part of the routine.\n",
            "\n",
            "Team Leader: Good. Remember, every detail counts. If we stick to the plan and remain cautious, the garden disguise will be our perfect alibi. No sudden mounds, no hurried transfers—just steady, almost imperceptible additions to what’s already there.\n",
            "\n",
            "Digging Chief: Understood, sir. I’ll see to it that every load is discreetly shifted. With the garden as our dumping ground, we’re playing it smart.\n",
            "\n",
            "Team Leader: Precisely. The dirt might seem like a minor nuisance, but it’s as crucial as the tunnel itself to our escape plan. Let’s keep it hidden—and safe—under cover of what appears to be ordinary camp life.\n",
            "\n",
            "Digging Chief: I’m on it, sir. We’ll keep our operation as natural as the soil in that garden.\n",
            "\n",
            "Team Leader: Then that’s settled. Stay sharp and remember: stealth is our strongest ally.\n"
          ]
        }
      ]
    },
    {
      "cell_type": "code",
      "source": [
        "pprint.pprint(response.choices[0].message.content)"
      ],
      "metadata": {
        "colab": {
          "base_uri": "https://localhost:8080/"
        },
        "id": "WMCPIhHudi9X",
        "outputId": "3b3056d4-22b3-4e83-a81c-586e97e43325"
      },
      "execution_count": null,
      "outputs": [
        {
          "output_type": "stream",
          "name": "stdout",
          "text": [
            "('Team Leader: We’ve got another issue to deal with—the dirt. Every shovelful '\n",
            " 'we remove from the tunnel leaves a trail. We need a foolproof plan to '\n",
            " 'dispose of it without raising any suspicions.\\n'\n",
            " '\\n'\n",
            " 'Digging Chief: I know, sir. The pile’s growing faster than we can hide it. '\n",
            " 'What options are we looking at?\\n'\n",
            " '\\n'\n",
            " 'Team Leader: Well, our first thought was to haul it out under cover of '\n",
            " 'darkness, scattering small amounts along the perimeter. But that carries its '\n",
            " 'own risks—if any pile is noted, the guards will start asking questions.\\n'\n",
            " '\\n'\n",
            " 'Digging Chief: Right. Dumping it near the latrines crossed my mind too. The '\n",
            " 'camp is used to maintenance there; extra soil might just be chalked up to '\n",
            " 'repairs or routine touch-ups.\\n'\n",
            " '\\n'\n",
            " 'Team Leader: I considered that, but the latrine area is under constant '\n",
            " 'watch. Not to mention, any unusual odor or disruption will draw unwanted '\n",
            " 'attention. We need somewhere the extra dirt won’t look out of place at all.\\n'\n",
            " '\\n'\n",
            " 'Digging Chief: What about the vegetable garden? The camp always brings in '\n",
            " 'fresh soil there for planting. Extra earth wouldn’t seem abnormal in that '\n",
            " 'context.\\n'\n",
            " '\\n'\n",
            " 'Team Leader: That’s what I was thinking too. The garden’s our best cover—no '\n",
            " 'one is going to raise an eyebrow when they see a little extra soil being '\n",
            " 'mixed in with the regular planting supplies. The guards scarcely pay any '\n",
            " 'attention there, assuming it’s just routine.\\n'\n",
            " '\\n'\n",
            " 'Digging Chief: So, we funnel our excavated dirt into the garden. We’ll have '\n",
            " 'to manage it carefully—transport it in small loads, and time it so it '\n",
            " 'coincides with the usual soil deliveries and gardening activities.\\n'\n",
            " '\\n'\n",
            " 'Team Leader: Exactly. Keeping the transfers gradual will help avoid any '\n",
            " 'sudden, suspicious build-up. We make it look like a normal, albeit extra, '\n",
            " 'supply of soil. It’s a slow process, but it’s the safest bet for keeping our '\n",
            " 'tunnel a secret.\\n'\n",
            " '\\n'\n",
            " 'Digging Chief: I’ll coordinate with the team to start moving the dirt in '\n",
            " 'small buckets. We can even claim we’re assisting the gardeners with some '\n",
            " 'extra work. That way, if anyone asks, it’s part of the routine.\\n'\n",
            " '\\n'\n",
            " 'Team Leader: Good. Remember, every detail counts. If we stick to the plan '\n",
            " 'and remain cautious, the garden disguise will be our perfect alibi. No '\n",
            " 'sudden mounds, no hurried transfers—just steady, almost imperceptible '\n",
            " 'additions to what’s already there.\\n'\n",
            " '\\n'\n",
            " 'Digging Chief: Understood, sir. I’ll see to it that every load is discreetly '\n",
            " 'shifted. With the garden as our dumping ground, we’re playing it smart.\\n'\n",
            " '\\n'\n",
            " 'Team Leader: Precisely. The dirt might seem like a minor nuisance, but it’s '\n",
            " 'as crucial as the tunnel itself to our escape plan. Let’s keep it hidden—and '\n",
            " 'safe—under cover of what appears to be ordinary camp life.\\n'\n",
            " '\\n'\n",
            " 'Digging Chief: I’m on it, sir. We’ll keep our operation as natural as the '\n",
            " 'soil in that garden.\\n'\n",
            " '\\n'\n",
            " 'Team Leader: Then that’s settled. Stay sharp and remember: stealth is our '\n",
            " 'strongest ally.')\n"
          ]
        }
      ]
    }
  ]
}